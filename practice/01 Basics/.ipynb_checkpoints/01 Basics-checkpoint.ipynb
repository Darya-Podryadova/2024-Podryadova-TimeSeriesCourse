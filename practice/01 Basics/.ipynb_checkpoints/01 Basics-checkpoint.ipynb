{
 "cells": [
  {
   "cell_type": "markdown",
   "metadata": {
    "id": "lo_4TuKQ7Rvi"
   },
   "source": [
    "# Анализ и прогнозирование временных рядов методами искусственного интеллекта\n",
    "\n",
    "## **Практическая работа 1. Метрики и меры схожести между временными рядами.**"
   ]
  },
  {
   "cell_type": "markdown",
   "metadata": {
    "id": "5x4KJjWOr5Rm"
   },
   "source": [
    "Смените рабочую директорию с помощью команды `chdir()`. Для этого передайте этой команде свой путь до каталога, в котором содержатся материалы первой практической работы. После выполнения этой команды все последующие операции с файлами и каталогами будут производиться относительно указанного каталога."
   ]
  },
  {
   "cell_type": "code",
   "execution_count": 2,
   "metadata": {
    "id": "5jsToCkfFWdU"
   },
   "outputs": [],
   "source": [
    "import os\n",
    "\n",
    "practice_dir_path = r'C:\\Users\\Daria\\2024-Podryadova-TimeSeriesCourse\\practice\\01 Basics'\n",
    "os.chdir(practice_dir_path)"
   ]
  },
  {
   "cell_type": "markdown",
   "metadata": {
    "id": "ok0wnfndt97x"
   },
   "source": [
    "Выполните команды, которые автоматически перезагружают все импортированные модули при их изменении."
   ]
  },
  {
   "cell_type": "code",
   "execution_count": 3,
   "metadata": {
    "id": "HUZGrGwdL4_4"
   },
   "outputs": [],
   "source": [
    "%load_ext autoreload\n",
    "%autoreload 2"
   ]
  },
  {
   "cell_type": "markdown",
   "metadata": {
    "id": "huPpzXLq814_"
   },
   "source": [
    "Импортируйте библиотеки и модули, необходимые для реализации практической работы 1."
   ]
  },
  {
   "cell_type": "code",
   "execution_count": 43,
   "metadata": {
    "id": "GMYZSsnptoaP"
   },
   "outputs": [],
   "source": [
    "# !pip install plotly"
   ]
  },
  {
   "cell_type": "code",
   "execution_count": 41,
   "metadata": {},
   "outputs": [],
   "source": [
    "# !pip install matplotlib"
   ]
  },
  {
   "cell_type": "code",
   "execution_count": 42,
   "metadata": {},
   "outputs": [],
   "source": [
    "# !pip install numba"
   ]
  },
  {
   "cell_type": "code",
   "execution_count": 44,
   "metadata": {
    "id": "CbWxHkjF8xYX"
   },
   "outputs": [
    {
     "data": {
      "text/html": [
       "        <script type=\"text/javascript\">\n",
       "        window.PlotlyConfig = {MathJaxConfig: 'local'};\n",
       "        if (window.MathJax && window.MathJax.Hub && window.MathJax.Hub.Config) {window.MathJax.Hub.Config({SVG: {font: \"STIX-Web\"}});}\n",
       "        if (typeof require !== 'undefined') {\n",
       "        require.undef(\"plotly\");\n",
       "        requirejs.config({\n",
       "            paths: {\n",
       "                'plotly': ['https://cdn.plot.ly/plotly-2.35.2.min']\n",
       "            }\n",
       "        });\n",
       "        require(['plotly'], function(Plotly) {\n",
       "            window._Plotly = Plotly;\n",
       "        });\n",
       "        }\n",
       "        </script>\n",
       "        "
      ]
     },
     "metadata": {},
     "output_type": "display_data"
    }
   ],
   "source": [
    "import numpy as np\n",
    "import random\n",
    "from sktime.distances import euclidean_distance, dtw_distance, pairwise_distance\n",
    "from sklearn.metrics import silhouette_score\n",
    "import cv2\n",
    "import imutils\n",
    "import glob\n",
    "import matplotlib.pyplot as plt\n",
    "# from google.colab.patches import cv2_imshow\n",
    "\n",
    "from modules.metrics import ED_distance, norm_ED_distance, DTW_distance\n",
    "from modules.pairwise_distance import PairwiseDistance\n",
    "# from modules.clustering import TimeSeriesHierarchicalClustering\n",
    "# from modules.classification import TimeSeriesKNN, calculate_accuracy\n",
    "# from modules.image_converter import image2ts\n",
    "from modules.utils import read_ts, z_normalize, sliding_window, random_walk\n",
    "from modules.plots import plot_ts"
   ]
  },
  {
   "cell_type": "markdown",
   "metadata": {
    "id": "voz1-GqVLI-B"
   },
   "source": [
    "## **Часть 1.** Функции расстояния: евклидова метрика и DTW мера. Матрица расстояний. Иерархическая кластеризация временных рядов."
   ]
  },
  {
   "cell_type": "markdown",
   "metadata": {
    "id": "c6rirU6j2z8z"
   },
   "source": [
    "### **Задача 1.**\n",
    "Реализуйте самостоятельно функцию `ED_distance()` в модуле *metrics.py*, которая вычисляет евклидово расстояние между двумя временными рядами, имеющими одинаковую длину. В качестве входных данных передайте в функцию два синтетических временных ряда некоторой заданной вами длины. Для их генерации используйте функцию `random_walk()` из модуля *utils.py*,  реализующую модель случайных блужданий (Random Walk), или стандартный модуль *random*.\n",
    "\n",
    "**Евклидово расстояние** между двумя временными рядами $T_1$ и $T_2$ длины $n$ вычисляется следующим образом:\n",
    "\n",
    "\\begin{equation}\n",
    "    \\text{ED}(T_1, T_2) = \\sqrt{\\sum_{i=1}^{n} ({t_{1}}_i-{t_{2}}_i)^2}.\n",
    "\\end{equation}\n",
    "\n",
    "Проверьте реализацию функции, сравнив свои результаты с результатами функции [`euclidean_distance()`](https://www.sktime.net/en/latest/api_reference/auto_generated/sktime.distances.euclidean_distance.html) из библиотеки *sktime*, с помощью `test_distances()`."
   ]
  },
  {
   "cell_type": "code",
   "execution_count": 19,
   "metadata": {
    "id": "UonNUuRvoY7p"
   },
   "outputs": [],
   "source": [
    "def test_distances(dist1: float, dist2: float) -> None:\n",
    "    \"\"\"\n",
    "    Check whether your distance function is implemented correctly\n",
    "\n",
    "    Parameters\n",
    "    ----------\n",
    "    dist1 : distance between two time series calculated by sktime\n",
    "    dist2 : distance between two time series calculated by your function\n",
    "    \"\"\"\n",
    "\n",
    "    np.testing.assert_equal(round(dist1, 5), round(dist2, 5), 'Distances are not equal')"
   ]
  },
  {
   "cell_type": "code",
   "execution_count": 20,
   "metadata": {
    "id": "sv2QymEGJGH-"
   },
   "outputs": [
    {
     "name": "stdout",
     "output_type": "stream",
     "text": [
      "All tests passed successfully!\n"
     ]
    }
   ],
   "source": [
    "# INSERT YOUR CODE\n",
    "ts1 = random_walk(100)\n",
    "ts2 = random_walk(100)\n",
    "\n",
    "\n",
    "dist1 = euclidean_distance(ts1, ts2)  \n",
    "dist2 = ED_distance(ts1, ts2)         \n",
    "\n",
    "\n",
    "test_distances(dist1, dist2)\n",
    "print(\"All tests passed successfully!\")"
   ]
  },
  {
   "cell_type": "markdown",
   "metadata": {
    "id": "ThvJ4CrY-DMe"
   },
   "source": [
    "### **Задача 2.**\n",
    "\n",
    "Реализуйте самостоятельно функцию `DTW_distance()` в модуле *metrics.py*, которая вычисляет DTW расстояние между двумя временными рядами, имеющими одинаковую длину. Для вычисления расстояния между элементами временных рядов в DTW мере используйте евклидово расстояние. Временные ряды сгенерируйте аналогичным образом, как в задаче 1, или используйте уже созданные.\n",
    "\n",
    "**Динамическая трансформация временной шкалы (Dynamic Time Warping, DTW)** – мера схожести между двумя временными рядами $T_1$ и $T_2$ длины $n$, вычисляемая следующим образом:\n",
    "\n",
    "\\begin{equation}\n",
    "\\text{DTW}(T_1, T_2) = d(n,n),\n",
    "\\\\ d(i,j) = ({t_{1}}_i - {t_{2}}_j)^2 + \\min \\left\\{\n",
    "\t\\begin{array}{l l}\n",
    "\td(i-1,j), \\\\\n",
    "\td(i,j-1), \\\\\n",
    "\td(i-1,j-1),\n",
    "\t\\end{array}\n",
    "\t\\right.\n",
    "\\\\ d(0,0)=0, \\quad d(i,0)=d(0,j)=\\infty, \\quad  1 \\leqslant i,j \\leqslant n.\n",
    "\\end{equation}\n",
    "\n",
    "Сравните свои результаты с результатами функции [`dtw_distance()`](https://www.sktime.net/en/latest/api_reference/auto_generated/sktime.distances.dtw_distance.html) из библиотеки *sktime*. Для этого используйте `test_distances()` из задачи 1."
   ]
  },
  {
   "cell_type": "code",
   "execution_count": 21,
   "metadata": {
    "id": "GU6jTavryBWx"
   },
   "outputs": [
    {
     "name": "stdout",
     "output_type": "stream",
     "text": [
      "All tests passed successfully!\n"
     ]
    }
   ],
   "source": [
    "# INSERT YOUR CODE\n",
    "\n",
    "ts1 = random_walk(100)\n",
    "ts2 = random_walk(100)\n",
    "\n",
    "\n",
    "dist1 = dtw_distance(ts1, ts2)  \n",
    "dist2 = DTW_distance(ts1, ts2)         \n",
    "\n",
    "\n",
    "test_distances(dist1, dist2)\n",
    "print(\"All tests passed successfully!\")"
   ]
  },
  {
   "cell_type": "markdown",
   "metadata": {
    "id": "V4Li2-bcRzG7"
   },
   "source": [
    "### **Задача 3.**\n",
    "Реализуйте нахождение матрицы расстояний между несколькими временными рядами.\n",
    "Для этого заполните все методы c недостающим кодом в классе `PairwiseDistance` из модуля *pairwise_distance.py*. Для вычисления расстояний между рядами используйте ранее реализованные вами функции `ED_distance()` и `DTW_distance()` из модуля *metrics.py*.\n",
    "\n",
    "Матрица расстояний между временными рядами определяется следующим образом. Пусть дано множество $S$, состоящее из $K$ временных рядов длины $n$: $\\;S = \\{T_1, T_2, ..., T_K\\}, \\; T_i \\in \\mathbb{R}^n$. Тогда под **матрицей расстояний** $D \\in \\mathbb{R}^{K \\times K}$ понимается квадратная матрица, где каждый ее элемент $d(i,j)$ представляет собой расстояние между временными рядами $T_i$ и $T_j$ из множества $S$:\n",
    "\\begin{equation}\n",
    "d(i,j) = dist(T_i, T_j), \\quad T_i, T_j \\in S, \\quad 1 \\leqslant i,j \\leqslant K.\n",
    "\\end{equation}\n",
    "\n",
    "Поскольку евклидова метрика и DTW мера удовлетворяют аксиоме симметричности (т.е. $dist(T_i, T_j)=dist(T_j, T_i)$), то матрица расстояний $D$ будет симметричной относительно главной диагонали. Для ускорения вычислений достаточно найти ее верхний треугольник, а нижний треугольник матрицы заполнить значениями верхнего треугольника следующим образом:\n",
    "\\begin{equation}\n",
    "d(j,i) = d(i,j), \\; где \\; i < j.\n",
    "\\end{equation}\n",
    "\n",
    "<center><img src=\"https://github.com/mzym/TimeSeriesCourse/blob/main/practice/01%20Basics/img/distance_matrix.png?raw=true\" width=\"600\"></center>"
   ]
  },
  {
   "cell_type": "markdown",
   "metadata": {
    "id": "uBHlNCjqqukS"
   },
   "source": [
    "Сгенерируйте множество, состоящее из $K$ временных рядов некоторой длины $n$. Вычислите матрицы евклидовых и DTW расстояний между ними. Проверьте реализованные вами методы, сравнив свои результаты с результатами функции [`pairwise_distance()`](https://www.sktime.net/en/latest/api_reference/auto_generated/sktime.distances.pairwise_distance.html) из библиотеки *sktime*."
   ]
  },
  {
   "cell_type": "code",
   "execution_count": 22,
   "metadata": {
    "id": "jTp56wMd-uhN"
   },
   "outputs": [],
   "source": [
    "def test_matrices(matrix1 : np.ndarray, matrix2 : np.ndarray) -> None:\n",
    "    \"\"\"\n",
    "    Check whether your matrix function is implemented correctly\n",
    "\n",
    "    Parameters\n",
    "    ----------\n",
    "    matrix1 : distance matrix calculated by sktime\n",
    "    matrix2 : distance matrix calculated by your function\n",
    "    \"\"\"\n",
    "\n",
    "    np.testing.assert_equal(matrix1.round(5), matrix2.round(5), 'Matrices are not equal')"
   ]
  },
  {
   "cell_type": "code",
   "execution_count": 27,
   "metadata": {
    "id": "05a9bmkvkZTR"
   },
   "outputs": [
    {
     "name": "stdout",
     "output_type": "stream",
     "text": [
      "All tests passed successfully!\n"
     ]
    }
   ],
   "source": [
    "# INSERT YOUR CODE\n",
    "\n",
    "\n",
    "def generate_random_time_series(num_series: int, length: int) -> np.ndarray:\n",
    "    return np.random.rand(num_series, length)\n",
    "\n",
    "num_series = 10\n",
    "length = 50\n",
    "time_series_data = generate_random_time_series(num_series, length)\n",
    "\n",
    "\n",
    "\n",
    "euclidean_distance = PairwiseDistance(metric='euclidean', is_normalize=False)\n",
    "euclidean_matrix = euclidean_distance.calculate(time_series_data)\n",
    "dtw_distance = PairwiseDistance(metric='dtw', is_normalize=False)\n",
    "dtw_matrix = dtw_distance.calculate(time_series_data)\n",
    "\n",
    "\n",
    "sktime_euclidean_matrix = pairwise_distance(time_series_data, metric='euclidean')\n",
    "sktime_dtw_matrix = pairwise_distance(time_series_data, metric='dtw')\n",
    "\n",
    "\n",
    "test_matrices(euclidean_matrix, sktime_euclidean_matrix)\n",
    "test_matrices(dtw_matrix, sktime_dtw_matrix)\n",
    "\n",
    "print(\"All tests passed successfully!\")"
   ]
  },
  {
   "cell_type": "markdown",
   "metadata": {
    "id": "ZKbP0Pt8RyJg"
   },
   "source": [
    "### **Задача 4.**\n",
    "Далее рассмотрим задачу иерархической кластеризации временных рядов, где будет использоваться предвычисленная матрица расстояний.\n",
    "\n",
    "Для этого сначала загрузите набор временных рядов CBF из файла *CBF_TRAIN.txt*, который располагается в директории *./datasets/part1*. Каждая строка данного файла содержит целевую переменную (класс: 0, 1 или 2) в первом столбце и временной ряд в остальных столбцах. Набор CBF является синтетическим и включает в себя 30 временных рядов,  каждый из которых принадлежит к одному из трех классов."
   ]
  },
  {
   "cell_type": "code",
   "execution_count": 34,
   "metadata": {
    "id": "DmefHJ64FYGT"
   },
   "outputs": [],
   "source": [
    "import pandas as pd\n",
    "\n",
    "url = './datasets/part1/CBF_TRAIN.txt'\n",
    "\n",
    "data = pd.DataFrame(read_ts(url))\n",
    "\n",
    "ts_set = data.iloc[:, 1:]\n",
    "labels = data.iloc[:, 0]"
   ]
  },
  {
   "cell_type": "code",
   "execution_count": 60,
   "metadata": {},
   "outputs": [
    {
     "data": {
      "text/html": [
       "<div>\n",
       "<style scoped>\n",
       "    .dataframe tbody tr th:only-of-type {\n",
       "        vertical-align: middle;\n",
       "    }\n",
       "\n",
       "    .dataframe tbody tr th {\n",
       "        vertical-align: top;\n",
       "    }\n",
       "\n",
       "    .dataframe thead th {\n",
       "        text-align: right;\n",
       "    }\n",
       "</style>\n",
       "<table border=\"1\" class=\"dataframe\">\n",
       "  <thead>\n",
       "    <tr style=\"text-align: right;\">\n",
       "      <th></th>\n",
       "      <th>0</th>\n",
       "      <th>1</th>\n",
       "      <th>2</th>\n",
       "      <th>3</th>\n",
       "      <th>4</th>\n",
       "      <th>5</th>\n",
       "      <th>6</th>\n",
       "      <th>7</th>\n",
       "      <th>8</th>\n",
       "      <th>9</th>\n",
       "      <th>...</th>\n",
       "      <th>119</th>\n",
       "      <th>120</th>\n",
       "      <th>121</th>\n",
       "      <th>122</th>\n",
       "      <th>123</th>\n",
       "      <th>124</th>\n",
       "      <th>125</th>\n",
       "      <th>126</th>\n",
       "      <th>127</th>\n",
       "      <th>128</th>\n",
       "    </tr>\n",
       "  </thead>\n",
       "  <tbody>\n",
       "    <tr>\n",
       "      <th>0</th>\n",
       "      <td>1.0</td>\n",
       "      <td>-0.464276</td>\n",
       "      <td>-0.555048</td>\n",
       "      <td>-0.842843</td>\n",
       "      <td>-0.865895</td>\n",
       "      <td>-0.936396</td>\n",
       "      <td>-0.817270</td>\n",
       "      <td>-0.263612</td>\n",
       "      <td>-1.258048</td>\n",
       "      <td>-1.250393</td>\n",
       "      <td>...</td>\n",
       "      <td>-1.331086</td>\n",
       "      <td>-1.083700</td>\n",
       "      <td>-1.017961</td>\n",
       "      <td>-0.916029</td>\n",
       "      <td>-1.134289</td>\n",
       "      <td>-0.920224</td>\n",
       "      <td>-0.789362</td>\n",
       "      <td>-0.638706</td>\n",
       "      <td>-0.963664</td>\n",
       "      <td>-1.245169</td>\n",
       "    </tr>\n",
       "    <tr>\n",
       "      <th>1</th>\n",
       "      <td>1.0</td>\n",
       "      <td>-0.896972</td>\n",
       "      <td>-0.685686</td>\n",
       "      <td>-1.351382</td>\n",
       "      <td>-1.458667</td>\n",
       "      <td>-1.165346</td>\n",
       "      <td>-1.403929</td>\n",
       "      <td>-1.821800</td>\n",
       "      <td>-0.831601</td>\n",
       "      <td>-1.016312</td>\n",
       "      <td>...</td>\n",
       "      <td>-1.062553</td>\n",
       "      <td>-1.568676</td>\n",
       "      <td>-1.364040</td>\n",
       "      <td>-1.155177</td>\n",
       "      <td>-0.995861</td>\n",
       "      <td>-1.163753</td>\n",
       "      <td>-0.916523</td>\n",
       "      <td>-0.582098</td>\n",
       "      <td>-1.259009</td>\n",
       "      <td>-1.392524</td>\n",
       "    </tr>\n",
       "    <tr>\n",
       "      <th>2</th>\n",
       "      <td>1.0</td>\n",
       "      <td>-0.464696</td>\n",
       "      <td>-0.567739</td>\n",
       "      <td>-0.032023</td>\n",
       "      <td>-0.635046</td>\n",
       "      <td>-0.602826</td>\n",
       "      <td>-0.266856</td>\n",
       "      <td>-0.267061</td>\n",
       "      <td>-0.931042</td>\n",
       "      <td>-0.449382</td>\n",
       "      <td>...</td>\n",
       "      <td>-0.286721</td>\n",
       "      <td>-0.637158</td>\n",
       "      <td>-0.155260</td>\n",
       "      <td>-0.688129</td>\n",
       "      <td>-0.885609</td>\n",
       "      <td>-0.766239</td>\n",
       "      <td>-0.865315</td>\n",
       "      <td>-0.284486</td>\n",
       "      <td>-0.687889</td>\n",
       "      <td>-0.887608</td>\n",
       "    </tr>\n",
       "    <tr>\n",
       "      <th>3</th>\n",
       "      <td>3.0</td>\n",
       "      <td>-0.187190</td>\n",
       "      <td>-0.620808</td>\n",
       "      <td>-0.815661</td>\n",
       "      <td>-0.521398</td>\n",
       "      <td>-0.790423</td>\n",
       "      <td>-0.967517</td>\n",
       "      <td>-1.487006</td>\n",
       "      <td>-0.277887</td>\n",
       "      <td>-0.835075</td>\n",
       "      <td>...</td>\n",
       "      <td>-0.908615</td>\n",
       "      <td>-0.726286</td>\n",
       "      <td>0.183778</td>\n",
       "      <td>-0.737444</td>\n",
       "      <td>-1.113997</td>\n",
       "      <td>-0.393987</td>\n",
       "      <td>-0.587889</td>\n",
       "      <td>-0.608232</td>\n",
       "      <td>-0.636465</td>\n",
       "      <td>-0.349029</td>\n",
       "    </tr>\n",
       "    <tr>\n",
       "      <th>4</th>\n",
       "      <td>2.0</td>\n",
       "      <td>-1.136017</td>\n",
       "      <td>-1.319195</td>\n",
       "      <td>-1.844624</td>\n",
       "      <td>-0.788692</td>\n",
       "      <td>-0.251715</td>\n",
       "      <td>-1.487603</td>\n",
       "      <td>-0.668764</td>\n",
       "      <td>-0.340360</td>\n",
       "      <td>-1.046382</td>\n",
       "      <td>...</td>\n",
       "      <td>-1.182911</td>\n",
       "      <td>-1.073514</td>\n",
       "      <td>-1.611362</td>\n",
       "      <td>-1.064340</td>\n",
       "      <td>-0.970736</td>\n",
       "      <td>-0.827281</td>\n",
       "      <td>-0.953538</td>\n",
       "      <td>-1.270185</td>\n",
       "      <td>-1.742758</td>\n",
       "      <td>-0.925944</td>\n",
       "    </tr>\n",
       "    <tr>\n",
       "      <th>5</th>\n",
       "      <td>2.0</td>\n",
       "      <td>-0.568709</td>\n",
       "      <td>-0.888118</td>\n",
       "      <td>-0.047977</td>\n",
       "      <td>-0.038036</td>\n",
       "      <td>-0.483068</td>\n",
       "      <td>-1.094689</td>\n",
       "      <td>-0.953453</td>\n",
       "      <td>-0.030007</td>\n",
       "      <td>-0.795455</td>\n",
       "      <td>...</td>\n",
       "      <td>-0.990740</td>\n",
       "      <td>0.518375</td>\n",
       "      <td>-0.228563</td>\n",
       "      <td>-0.565289</td>\n",
       "      <td>-0.642998</td>\n",
       "      <td>-1.109428</td>\n",
       "      <td>-0.101093</td>\n",
       "      <td>-0.233949</td>\n",
       "      <td>-0.619827</td>\n",
       "      <td>-0.083062</td>\n",
       "    </tr>\n",
       "    <tr>\n",
       "      <th>6</th>\n",
       "      <td>1.0</td>\n",
       "      <td>-0.965839</td>\n",
       "      <td>-1.644583</td>\n",
       "      <td>-1.805935</td>\n",
       "      <td>-1.499658</td>\n",
       "      <td>-0.920088</td>\n",
       "      <td>-1.115706</td>\n",
       "      <td>-0.650195</td>\n",
       "      <td>-0.918766</td>\n",
       "      <td>-1.234708</td>\n",
       "      <td>...</td>\n",
       "      <td>-1.072535</td>\n",
       "      <td>-1.063034</td>\n",
       "      <td>-1.316563</td>\n",
       "      <td>-0.735739</td>\n",
       "      <td>-1.052152</td>\n",
       "      <td>-0.960465</td>\n",
       "      <td>-1.133566</td>\n",
       "      <td>-0.610344</td>\n",
       "      <td>-1.165220</td>\n",
       "      <td>-0.685899</td>\n",
       "    </tr>\n",
       "    <tr>\n",
       "      <th>7</th>\n",
       "      <td>3.0</td>\n",
       "      <td>-0.264302</td>\n",
       "      <td>-0.290925</td>\n",
       "      <td>-0.598567</td>\n",
       "      <td>-0.518863</td>\n",
       "      <td>-0.488594</td>\n",
       "      <td>-0.407091</td>\n",
       "      <td>-1.071489</td>\n",
       "      <td>-1.095706</td>\n",
       "      <td>-0.584503</td>\n",
       "      <td>...</td>\n",
       "      <td>-1.166085</td>\n",
       "      <td>-0.191880</td>\n",
       "      <td>-0.122911</td>\n",
       "      <td>-0.700746</td>\n",
       "      <td>-0.587870</td>\n",
       "      <td>-0.769917</td>\n",
       "      <td>0.192093</td>\n",
       "      <td>-1.443154</td>\n",
       "      <td>-1.039481</td>\n",
       "      <td>-0.631209</td>\n",
       "    </tr>\n",
       "    <tr>\n",
       "      <th>8</th>\n",
       "      <td>2.0</td>\n",
       "      <td>-0.803716</td>\n",
       "      <td>-0.048161</td>\n",
       "      <td>-1.299278</td>\n",
       "      <td>-1.072280</td>\n",
       "      <td>-1.004018</td>\n",
       "      <td>-0.511452</td>\n",
       "      <td>-1.173215</td>\n",
       "      <td>-0.422062</td>\n",
       "      <td>-0.779320</td>\n",
       "      <td>...</td>\n",
       "      <td>-1.848828</td>\n",
       "      <td>-0.549432</td>\n",
       "      <td>-0.968269</td>\n",
       "      <td>-0.353983</td>\n",
       "      <td>-0.595892</td>\n",
       "      <td>-0.606194</td>\n",
       "      <td>-0.864444</td>\n",
       "      <td>-0.706192</td>\n",
       "      <td>-1.388656</td>\n",
       "      <td>-0.650710</td>\n",
       "    </tr>\n",
       "    <tr>\n",
       "      <th>9</th>\n",
       "      <td>1.0</td>\n",
       "      <td>-1.186422</td>\n",
       "      <td>-0.893197</td>\n",
       "      <td>-0.977737</td>\n",
       "      <td>-0.634109</td>\n",
       "      <td>-1.384820</td>\n",
       "      <td>-1.271926</td>\n",
       "      <td>-1.212171</td>\n",
       "      <td>-1.452792</td>\n",
       "      <td>-0.934417</td>\n",
       "      <td>...</td>\n",
       "      <td>-0.856893</td>\n",
       "      <td>-1.217625</td>\n",
       "      <td>-0.823654</td>\n",
       "      <td>-1.280452</td>\n",
       "      <td>-1.589396</td>\n",
       "      <td>-0.998294</td>\n",
       "      <td>-0.810800</td>\n",
       "      <td>-0.981591</td>\n",
       "      <td>-1.278444</td>\n",
       "      <td>-1.107829</td>\n",
       "    </tr>\n",
       "    <tr>\n",
       "      <th>10</th>\n",
       "      <td>2.0</td>\n",
       "      <td>-0.653308</td>\n",
       "      <td>-1.295185</td>\n",
       "      <td>-0.457384</td>\n",
       "      <td>-1.092036</td>\n",
       "      <td>-1.682346</td>\n",
       "      <td>-0.461811</td>\n",
       "      <td>-0.099362</td>\n",
       "      <td>-0.834809</td>\n",
       "      <td>-0.635881</td>\n",
       "      <td>...</td>\n",
       "      <td>-0.391058</td>\n",
       "      <td>-0.358109</td>\n",
       "      <td>-1.163435</td>\n",
       "      <td>-0.400711</td>\n",
       "      <td>-0.409760</td>\n",
       "      <td>-0.720947</td>\n",
       "      <td>-0.332990</td>\n",
       "      <td>0.548204</td>\n",
       "      <td>-0.596229</td>\n",
       "      <td>-0.190672</td>\n",
       "    </tr>\n",
       "    <tr>\n",
       "      <th>11</th>\n",
       "      <td>2.0</td>\n",
       "      <td>-0.541876</td>\n",
       "      <td>-1.016107</td>\n",
       "      <td>-1.079902</td>\n",
       "      <td>-1.185665</td>\n",
       "      <td>-0.792452</td>\n",
       "      <td>-0.754593</td>\n",
       "      <td>-0.057041</td>\n",
       "      <td>-0.437110</td>\n",
       "      <td>-1.071181</td>\n",
       "      <td>...</td>\n",
       "      <td>-0.195403</td>\n",
       "      <td>-0.136382</td>\n",
       "      <td>0.322984</td>\n",
       "      <td>-1.233174</td>\n",
       "      <td>-0.937079</td>\n",
       "      <td>-1.047841</td>\n",
       "      <td>-0.564348</td>\n",
       "      <td>-0.314559</td>\n",
       "      <td>-1.110768</td>\n",
       "      <td>0.105266</td>\n",
       "    </tr>\n",
       "    <tr>\n",
       "      <th>12</th>\n",
       "      <td>1.0</td>\n",
       "      <td>-1.945327</td>\n",
       "      <td>-1.449840</td>\n",
       "      <td>-1.488946</td>\n",
       "      <td>-1.800484</td>\n",
       "      <td>-2.313060</td>\n",
       "      <td>-1.772085</td>\n",
       "      <td>-2.154882</td>\n",
       "      <td>-1.331225</td>\n",
       "      <td>-2.265140</td>\n",
       "      <td>...</td>\n",
       "      <td>0.389975</td>\n",
       "      <td>-0.180369</td>\n",
       "      <td>0.554121</td>\n",
       "      <td>0.686126</td>\n",
       "      <td>0.690618</td>\n",
       "      <td>0.620764</td>\n",
       "      <td>0.926008</td>\n",
       "      <td>-1.941053</td>\n",
       "      <td>-2.111237</td>\n",
       "      <td>-1.768088</td>\n",
       "    </tr>\n",
       "    <tr>\n",
       "      <th>13</th>\n",
       "      <td>2.0</td>\n",
       "      <td>0.045628</td>\n",
       "      <td>-1.129965</td>\n",
       "      <td>-0.520607</td>\n",
       "      <td>-1.067185</td>\n",
       "      <td>-1.332289</td>\n",
       "      <td>-0.862419</td>\n",
       "      <td>-1.030357</td>\n",
       "      <td>-1.069477</td>\n",
       "      <td>-0.285942</td>\n",
       "      <td>...</td>\n",
       "      <td>-0.296211</td>\n",
       "      <td>-0.331967</td>\n",
       "      <td>0.467035</td>\n",
       "      <td>-0.323678</td>\n",
       "      <td>-0.179489</td>\n",
       "      <td>-0.244960</td>\n",
       "      <td>-0.000054</td>\n",
       "      <td>-1.409262</td>\n",
       "      <td>-0.781512</td>\n",
       "      <td>-0.618237</td>\n",
       "    </tr>\n",
       "    <tr>\n",
       "      <th>14</th>\n",
       "      <td>2.0</td>\n",
       "      <td>-0.413197</td>\n",
       "      <td>-0.400935</td>\n",
       "      <td>-0.482027</td>\n",
       "      <td>-1.402971</td>\n",
       "      <td>-1.682595</td>\n",
       "      <td>-0.881504</td>\n",
       "      <td>-0.963584</td>\n",
       "      <td>-0.978706</td>\n",
       "      <td>-1.334481</td>\n",
       "      <td>...</td>\n",
       "      <td>-1.331058</td>\n",
       "      <td>-0.832508</td>\n",
       "      <td>-0.455404</td>\n",
       "      <td>-1.153485</td>\n",
       "      <td>-1.852245</td>\n",
       "      <td>-1.176024</td>\n",
       "      <td>-1.058378</td>\n",
       "      <td>-0.410209</td>\n",
       "      <td>-1.027981</td>\n",
       "      <td>-0.549934</td>\n",
       "    </tr>\n",
       "    <tr>\n",
       "      <th>15</th>\n",
       "      <td>3.0</td>\n",
       "      <td>-1.659120</td>\n",
       "      <td>-1.001310</td>\n",
       "      <td>0.342287</td>\n",
       "      <td>-1.226010</td>\n",
       "      <td>-0.173162</td>\n",
       "      <td>-1.411484</td>\n",
       "      <td>-1.070507</td>\n",
       "      <td>-0.749773</td>\n",
       "      <td>-0.752648</td>\n",
       "      <td>...</td>\n",
       "      <td>-1.702516</td>\n",
       "      <td>-0.451256</td>\n",
       "      <td>-0.677161</td>\n",
       "      <td>-1.074379</td>\n",
       "      <td>-1.022380</td>\n",
       "      <td>-0.341066</td>\n",
       "      <td>-1.554400</td>\n",
       "      <td>-1.516667</td>\n",
       "      <td>0.113708</td>\n",
       "      <td>-1.006452</td>\n",
       "    </tr>\n",
       "    <tr>\n",
       "      <th>16</th>\n",
       "      <td>2.0</td>\n",
       "      <td>-0.725354</td>\n",
       "      <td>-0.837863</td>\n",
       "      <td>-1.013462</td>\n",
       "      <td>-0.465730</td>\n",
       "      <td>-1.691358</td>\n",
       "      <td>-0.894113</td>\n",
       "      <td>-0.943732</td>\n",
       "      <td>-0.278840</td>\n",
       "      <td>-1.518855</td>\n",
       "      <td>...</td>\n",
       "      <td>-0.835016</td>\n",
       "      <td>-0.425525</td>\n",
       "      <td>-0.182953</td>\n",
       "      <td>-1.035472</td>\n",
       "      <td>-0.427210</td>\n",
       "      <td>-0.958640</td>\n",
       "      <td>-0.805372</td>\n",
       "      <td>-0.801574</td>\n",
       "      <td>-0.612442</td>\n",
       "      <td>-1.022886</td>\n",
       "    </tr>\n",
       "    <tr>\n",
       "      <th>17</th>\n",
       "      <td>2.0</td>\n",
       "      <td>-1.457541</td>\n",
       "      <td>-0.668126</td>\n",
       "      <td>-1.111360</td>\n",
       "      <td>-0.343084</td>\n",
       "      <td>-0.700836</td>\n",
       "      <td>-1.614519</td>\n",
       "      <td>-0.328223</td>\n",
       "      <td>-1.147196</td>\n",
       "      <td>-0.959553</td>\n",
       "      <td>...</td>\n",
       "      <td>-0.747690</td>\n",
       "      <td>-1.946111</td>\n",
       "      <td>-0.878932</td>\n",
       "      <td>-0.153847</td>\n",
       "      <td>-0.943470</td>\n",
       "      <td>0.039519</td>\n",
       "      <td>-0.135961</td>\n",
       "      <td>-0.715323</td>\n",
       "      <td>-0.719066</td>\n",
       "      <td>-1.201701</td>\n",
       "    </tr>\n",
       "    <tr>\n",
       "      <th>18</th>\n",
       "      <td>1.0</td>\n",
       "      <td>-1.411368</td>\n",
       "      <td>-1.208220</td>\n",
       "      <td>-0.681907</td>\n",
       "      <td>-1.504585</td>\n",
       "      <td>-1.123406</td>\n",
       "      <td>-1.528798</td>\n",
       "      <td>-1.648431</td>\n",
       "      <td>-1.231512</td>\n",
       "      <td>-1.451567</td>\n",
       "      <td>...</td>\n",
       "      <td>-1.172529</td>\n",
       "      <td>-1.068507</td>\n",
       "      <td>-1.235361</td>\n",
       "      <td>-0.952461</td>\n",
       "      <td>-1.170550</td>\n",
       "      <td>-1.576966</td>\n",
       "      <td>-1.742469</td>\n",
       "      <td>-1.161046</td>\n",
       "      <td>-0.964383</td>\n",
       "      <td>-1.316116</td>\n",
       "    </tr>\n",
       "    <tr>\n",
       "      <th>19</th>\n",
       "      <td>3.0</td>\n",
       "      <td>-0.927105</td>\n",
       "      <td>-0.648515</td>\n",
       "      <td>-0.172875</td>\n",
       "      <td>-0.754255</td>\n",
       "      <td>0.110781</td>\n",
       "      <td>-1.410398</td>\n",
       "      <td>-1.046356</td>\n",
       "      <td>-1.234796</td>\n",
       "      <td>-0.505822</td>\n",
       "      <td>...</td>\n",
       "      <td>-0.952988</td>\n",
       "      <td>-0.102465</td>\n",
       "      <td>-0.778030</td>\n",
       "      <td>0.011595</td>\n",
       "      <td>-0.790378</td>\n",
       "      <td>-0.515698</td>\n",
       "      <td>-1.110569</td>\n",
       "      <td>-0.872846</td>\n",
       "      <td>0.129311</td>\n",
       "      <td>-0.142658</td>\n",
       "    </tr>\n",
       "    <tr>\n",
       "      <th>20</th>\n",
       "      <td>2.0</td>\n",
       "      <td>-1.451680</td>\n",
       "      <td>-1.445272</td>\n",
       "      <td>-1.073598</td>\n",
       "      <td>-1.267250</td>\n",
       "      <td>-0.700650</td>\n",
       "      <td>-1.899969</td>\n",
       "      <td>-1.581706</td>\n",
       "      <td>-1.112631</td>\n",
       "      <td>-1.928033</td>\n",
       "      <td>...</td>\n",
       "      <td>2.039639</td>\n",
       "      <td>2.115751</td>\n",
       "      <td>1.498954</td>\n",
       "      <td>1.527989</td>\n",
       "      <td>1.688901</td>\n",
       "      <td>1.839214</td>\n",
       "      <td>0.984469</td>\n",
       "      <td>1.229552</td>\n",
       "      <td>0.839711</td>\n",
       "      <td>-0.415842</td>\n",
       "    </tr>\n",
       "    <tr>\n",
       "      <th>21</th>\n",
       "      <td>2.0</td>\n",
       "      <td>-0.534452</td>\n",
       "      <td>-0.954354</td>\n",
       "      <td>-0.806711</td>\n",
       "      <td>-1.246832</td>\n",
       "      <td>-0.964314</td>\n",
       "      <td>-1.276309</td>\n",
       "      <td>-0.425791</td>\n",
       "      <td>-1.653974</td>\n",
       "      <td>-0.023965</td>\n",
       "      <td>...</td>\n",
       "      <td>-1.125568</td>\n",
       "      <td>-0.976048</td>\n",
       "      <td>-0.712712</td>\n",
       "      <td>-1.534127</td>\n",
       "      <td>-0.876429</td>\n",
       "      <td>-0.499890</td>\n",
       "      <td>-0.472178</td>\n",
       "      <td>-0.640636</td>\n",
       "      <td>-0.942633</td>\n",
       "      <td>-1.462932</td>\n",
       "    </tr>\n",
       "    <tr>\n",
       "      <th>22</th>\n",
       "      <td>1.0</td>\n",
       "      <td>-1.086040</td>\n",
       "      <td>-1.199305</td>\n",
       "      <td>-1.120579</td>\n",
       "      <td>-1.196342</td>\n",
       "      <td>-1.952206</td>\n",
       "      <td>-1.272486</td>\n",
       "      <td>-0.588276</td>\n",
       "      <td>-1.046953</td>\n",
       "      <td>-1.613908</td>\n",
       "      <td>...</td>\n",
       "      <td>-1.361605</td>\n",
       "      <td>-1.590663</td>\n",
       "      <td>-1.150203</td>\n",
       "      <td>-1.220833</td>\n",
       "      <td>-0.845158</td>\n",
       "      <td>-1.391842</td>\n",
       "      <td>-1.363522</td>\n",
       "      <td>-1.527203</td>\n",
       "      <td>-1.052013</td>\n",
       "      <td>-0.905395</td>\n",
       "    </tr>\n",
       "    <tr>\n",
       "      <th>23</th>\n",
       "      <td>1.0</td>\n",
       "      <td>-1.676169</td>\n",
       "      <td>-1.839363</td>\n",
       "      <td>-1.833647</td>\n",
       "      <td>-1.914525</td>\n",
       "      <td>-1.755839</td>\n",
       "      <td>-1.018323</td>\n",
       "      <td>-1.130675</td>\n",
       "      <td>-1.310847</td>\n",
       "      <td>-1.816412</td>\n",
       "      <td>...</td>\n",
       "      <td>0.553159</td>\n",
       "      <td>0.589617</td>\n",
       "      <td>0.427921</td>\n",
       "      <td>0.316345</td>\n",
       "      <td>1.140381</td>\n",
       "      <td>0.085502</td>\n",
       "      <td>-0.074705</td>\n",
       "      <td>0.349369</td>\n",
       "      <td>0.598850</td>\n",
       "      <td>0.153169</td>\n",
       "    </tr>\n",
       "    <tr>\n",
       "      <th>24</th>\n",
       "      <td>3.0</td>\n",
       "      <td>-1.314889</td>\n",
       "      <td>-1.350861</td>\n",
       "      <td>-0.574819</td>\n",
       "      <td>-0.713783</td>\n",
       "      <td>-1.729874</td>\n",
       "      <td>-1.160836</td>\n",
       "      <td>-1.447294</td>\n",
       "      <td>-0.862894</td>\n",
       "      <td>-0.677138</td>\n",
       "      <td>...</td>\n",
       "      <td>-0.288369</td>\n",
       "      <td>-0.709699</td>\n",
       "      <td>-0.587874</td>\n",
       "      <td>-0.103550</td>\n",
       "      <td>-1.462959</td>\n",
       "      <td>-1.287787</td>\n",
       "      <td>-0.189025</td>\n",
       "      <td>-1.576739</td>\n",
       "      <td>-0.834170</td>\n",
       "      <td>-0.757507</td>\n",
       "    </tr>\n",
       "    <tr>\n",
       "      <th>25</th>\n",
       "      <td>3.0</td>\n",
       "      <td>-0.190921</td>\n",
       "      <td>-0.616051</td>\n",
       "      <td>-0.598029</td>\n",
       "      <td>-0.625447</td>\n",
       "      <td>-0.152508</td>\n",
       "      <td>-0.766330</td>\n",
       "      <td>-0.342259</td>\n",
       "      <td>-0.110398</td>\n",
       "      <td>0.002155</td>\n",
       "      <td>...</td>\n",
       "      <td>-1.601437</td>\n",
       "      <td>-0.951891</td>\n",
       "      <td>-0.967032</td>\n",
       "      <td>-0.539147</td>\n",
       "      <td>-1.060237</td>\n",
       "      <td>-0.867913</td>\n",
       "      <td>0.203783</td>\n",
       "      <td>-0.771398</td>\n",
       "      <td>-0.335743</td>\n",
       "      <td>-0.471972</td>\n",
       "    </tr>\n",
       "    <tr>\n",
       "      <th>26</th>\n",
       "      <td>2.0</td>\n",
       "      <td>-0.191813</td>\n",
       "      <td>-0.046090</td>\n",
       "      <td>-1.365237</td>\n",
       "      <td>-0.907398</td>\n",
       "      <td>-0.866737</td>\n",
       "      <td>-1.190132</td>\n",
       "      <td>-1.133251</td>\n",
       "      <td>-0.326194</td>\n",
       "      <td>-0.429892</td>\n",
       "      <td>...</td>\n",
       "      <td>-0.472716</td>\n",
       "      <td>-0.345038</td>\n",
       "      <td>-0.527332</td>\n",
       "      <td>0.094133</td>\n",
       "      <td>-0.766642</td>\n",
       "      <td>-0.798810</td>\n",
       "      <td>-0.740407</td>\n",
       "      <td>0.079962</td>\n",
       "      <td>-0.644739</td>\n",
       "      <td>-0.699253</td>\n",
       "    </tr>\n",
       "    <tr>\n",
       "      <th>27</th>\n",
       "      <td>3.0</td>\n",
       "      <td>-0.180493</td>\n",
       "      <td>-0.988931</td>\n",
       "      <td>-0.301702</td>\n",
       "      <td>-0.475365</td>\n",
       "      <td>-1.135269</td>\n",
       "      <td>-0.057289</td>\n",
       "      <td>-1.025515</td>\n",
       "      <td>-0.356052</td>\n",
       "      <td>-1.551276</td>\n",
       "      <td>...</td>\n",
       "      <td>-1.483386</td>\n",
       "      <td>-0.194116</td>\n",
       "      <td>-0.684195</td>\n",
       "      <td>0.404387</td>\n",
       "      <td>-0.258442</td>\n",
       "      <td>-0.139232</td>\n",
       "      <td>-0.799767</td>\n",
       "      <td>0.019760</td>\n",
       "      <td>-0.942132</td>\n",
       "      <td>0.013121</td>\n",
       "    </tr>\n",
       "    <tr>\n",
       "      <th>28</th>\n",
       "      <td>3.0</td>\n",
       "      <td>-0.265888</td>\n",
       "      <td>0.013128</td>\n",
       "      <td>-1.028861</td>\n",
       "      <td>-1.090108</td>\n",
       "      <td>-1.882059</td>\n",
       "      <td>-0.565594</td>\n",
       "      <td>-0.268946</td>\n",
       "      <td>-0.995725</td>\n",
       "      <td>-0.597319</td>\n",
       "      <td>...</td>\n",
       "      <td>-0.531061</td>\n",
       "      <td>-0.952566</td>\n",
       "      <td>-0.430973</td>\n",
       "      <td>-0.736741</td>\n",
       "      <td>-0.670872</td>\n",
       "      <td>-0.669232</td>\n",
       "      <td>-1.349964</td>\n",
       "      <td>-0.405544</td>\n",
       "      <td>-0.930632</td>\n",
       "      <td>-0.777303</td>\n",
       "    </tr>\n",
       "    <tr>\n",
       "      <th>29</th>\n",
       "      <td>1.0</td>\n",
       "      <td>-0.993315</td>\n",
       "      <td>-0.869419</td>\n",
       "      <td>-0.345135</td>\n",
       "      <td>-0.996903</td>\n",
       "      <td>-1.742535</td>\n",
       "      <td>-1.587492</td>\n",
       "      <td>-1.325672</td>\n",
       "      <td>-1.440356</td>\n",
       "      <td>-1.247958</td>\n",
       "      <td>...</td>\n",
       "      <td>-0.859232</td>\n",
       "      <td>-1.058633</td>\n",
       "      <td>-0.117253</td>\n",
       "      <td>-1.254813</td>\n",
       "      <td>-0.481671</td>\n",
       "      <td>-1.218196</td>\n",
       "      <td>-1.225446</td>\n",
       "      <td>-1.170861</td>\n",
       "      <td>-1.325109</td>\n",
       "      <td>-0.894582</td>\n",
       "    </tr>\n",
       "  </tbody>\n",
       "</table>\n",
       "<p>30 rows × 129 columns</p>\n",
       "</div>"
      ],
      "text/plain": [
       "    0         1         2         3         4         5         6         7    \\\n",
       "0   1.0 -0.464276 -0.555048 -0.842843 -0.865895 -0.936396 -0.817270 -0.263612   \n",
       "1   1.0 -0.896972 -0.685686 -1.351382 -1.458667 -1.165346 -1.403929 -1.821800   \n",
       "2   1.0 -0.464696 -0.567739 -0.032023 -0.635046 -0.602826 -0.266856 -0.267061   \n",
       "3   3.0 -0.187190 -0.620808 -0.815661 -0.521398 -0.790423 -0.967517 -1.487006   \n",
       "4   2.0 -1.136017 -1.319195 -1.844624 -0.788692 -0.251715 -1.487603 -0.668764   \n",
       "5   2.0 -0.568709 -0.888118 -0.047977 -0.038036 -0.483068 -1.094689 -0.953453   \n",
       "6   1.0 -0.965839 -1.644583 -1.805935 -1.499658 -0.920088 -1.115706 -0.650195   \n",
       "7   3.0 -0.264302 -0.290925 -0.598567 -0.518863 -0.488594 -0.407091 -1.071489   \n",
       "8   2.0 -0.803716 -0.048161 -1.299278 -1.072280 -1.004018 -0.511452 -1.173215   \n",
       "9   1.0 -1.186422 -0.893197 -0.977737 -0.634109 -1.384820 -1.271926 -1.212171   \n",
       "10  2.0 -0.653308 -1.295185 -0.457384 -1.092036 -1.682346 -0.461811 -0.099362   \n",
       "11  2.0 -0.541876 -1.016107 -1.079902 -1.185665 -0.792452 -0.754593 -0.057041   \n",
       "12  1.0 -1.945327 -1.449840 -1.488946 -1.800484 -2.313060 -1.772085 -2.154882   \n",
       "13  2.0  0.045628 -1.129965 -0.520607 -1.067185 -1.332289 -0.862419 -1.030357   \n",
       "14  2.0 -0.413197 -0.400935 -0.482027 -1.402971 -1.682595 -0.881504 -0.963584   \n",
       "15  3.0 -1.659120 -1.001310  0.342287 -1.226010 -0.173162 -1.411484 -1.070507   \n",
       "16  2.0 -0.725354 -0.837863 -1.013462 -0.465730 -1.691358 -0.894113 -0.943732   \n",
       "17  2.0 -1.457541 -0.668126 -1.111360 -0.343084 -0.700836 -1.614519 -0.328223   \n",
       "18  1.0 -1.411368 -1.208220 -0.681907 -1.504585 -1.123406 -1.528798 -1.648431   \n",
       "19  3.0 -0.927105 -0.648515 -0.172875 -0.754255  0.110781 -1.410398 -1.046356   \n",
       "20  2.0 -1.451680 -1.445272 -1.073598 -1.267250 -0.700650 -1.899969 -1.581706   \n",
       "21  2.0 -0.534452 -0.954354 -0.806711 -1.246832 -0.964314 -1.276309 -0.425791   \n",
       "22  1.0 -1.086040 -1.199305 -1.120579 -1.196342 -1.952206 -1.272486 -0.588276   \n",
       "23  1.0 -1.676169 -1.839363 -1.833647 -1.914525 -1.755839 -1.018323 -1.130675   \n",
       "24  3.0 -1.314889 -1.350861 -0.574819 -0.713783 -1.729874 -1.160836 -1.447294   \n",
       "25  3.0 -0.190921 -0.616051 -0.598029 -0.625447 -0.152508 -0.766330 -0.342259   \n",
       "26  2.0 -0.191813 -0.046090 -1.365237 -0.907398 -0.866737 -1.190132 -1.133251   \n",
       "27  3.0 -0.180493 -0.988931 -0.301702 -0.475365 -1.135269 -0.057289 -1.025515   \n",
       "28  3.0 -0.265888  0.013128 -1.028861 -1.090108 -1.882059 -0.565594 -0.268946   \n",
       "29  1.0 -0.993315 -0.869419 -0.345135 -0.996903 -1.742535 -1.587492 -1.325672   \n",
       "\n",
       "         8         9    ...       119       120       121       122       123  \\\n",
       "0  -1.258048 -1.250393  ... -1.331086 -1.083700 -1.017961 -0.916029 -1.134289   \n",
       "1  -0.831601 -1.016312  ... -1.062553 -1.568676 -1.364040 -1.155177 -0.995861   \n",
       "2  -0.931042 -0.449382  ... -0.286721 -0.637158 -0.155260 -0.688129 -0.885609   \n",
       "3  -0.277887 -0.835075  ... -0.908615 -0.726286  0.183778 -0.737444 -1.113997   \n",
       "4  -0.340360 -1.046382  ... -1.182911 -1.073514 -1.611362 -1.064340 -0.970736   \n",
       "5  -0.030007 -0.795455  ... -0.990740  0.518375 -0.228563 -0.565289 -0.642998   \n",
       "6  -0.918766 -1.234708  ... -1.072535 -1.063034 -1.316563 -0.735739 -1.052152   \n",
       "7  -1.095706 -0.584503  ... -1.166085 -0.191880 -0.122911 -0.700746 -0.587870   \n",
       "8  -0.422062 -0.779320  ... -1.848828 -0.549432 -0.968269 -0.353983 -0.595892   \n",
       "9  -1.452792 -0.934417  ... -0.856893 -1.217625 -0.823654 -1.280452 -1.589396   \n",
       "10 -0.834809 -0.635881  ... -0.391058 -0.358109 -1.163435 -0.400711 -0.409760   \n",
       "11 -0.437110 -1.071181  ... -0.195403 -0.136382  0.322984 -1.233174 -0.937079   \n",
       "12 -1.331225 -2.265140  ...  0.389975 -0.180369  0.554121  0.686126  0.690618   \n",
       "13 -1.069477 -0.285942  ... -0.296211 -0.331967  0.467035 -0.323678 -0.179489   \n",
       "14 -0.978706 -1.334481  ... -1.331058 -0.832508 -0.455404 -1.153485 -1.852245   \n",
       "15 -0.749773 -0.752648  ... -1.702516 -0.451256 -0.677161 -1.074379 -1.022380   \n",
       "16 -0.278840 -1.518855  ... -0.835016 -0.425525 -0.182953 -1.035472 -0.427210   \n",
       "17 -1.147196 -0.959553  ... -0.747690 -1.946111 -0.878932 -0.153847 -0.943470   \n",
       "18 -1.231512 -1.451567  ... -1.172529 -1.068507 -1.235361 -0.952461 -1.170550   \n",
       "19 -1.234796 -0.505822  ... -0.952988 -0.102465 -0.778030  0.011595 -0.790378   \n",
       "20 -1.112631 -1.928033  ...  2.039639  2.115751  1.498954  1.527989  1.688901   \n",
       "21 -1.653974 -0.023965  ... -1.125568 -0.976048 -0.712712 -1.534127 -0.876429   \n",
       "22 -1.046953 -1.613908  ... -1.361605 -1.590663 -1.150203 -1.220833 -0.845158   \n",
       "23 -1.310847 -1.816412  ...  0.553159  0.589617  0.427921  0.316345  1.140381   \n",
       "24 -0.862894 -0.677138  ... -0.288369 -0.709699 -0.587874 -0.103550 -1.462959   \n",
       "25 -0.110398  0.002155  ... -1.601437 -0.951891 -0.967032 -0.539147 -1.060237   \n",
       "26 -0.326194 -0.429892  ... -0.472716 -0.345038 -0.527332  0.094133 -0.766642   \n",
       "27 -0.356052 -1.551276  ... -1.483386 -0.194116 -0.684195  0.404387 -0.258442   \n",
       "28 -0.995725 -0.597319  ... -0.531061 -0.952566 -0.430973 -0.736741 -0.670872   \n",
       "29 -1.440356 -1.247958  ... -0.859232 -1.058633 -0.117253 -1.254813 -0.481671   \n",
       "\n",
       "         124       125       126       127       128  \n",
       "0  -0.920224 -0.789362 -0.638706 -0.963664 -1.245169  \n",
       "1  -1.163753 -0.916523 -0.582098 -1.259009 -1.392524  \n",
       "2  -0.766239 -0.865315 -0.284486 -0.687889 -0.887608  \n",
       "3  -0.393987 -0.587889 -0.608232 -0.636465 -0.349029  \n",
       "4  -0.827281 -0.953538 -1.270185 -1.742758 -0.925944  \n",
       "5  -1.109428 -0.101093 -0.233949 -0.619827 -0.083062  \n",
       "6  -0.960465 -1.133566 -0.610344 -1.165220 -0.685899  \n",
       "7  -0.769917  0.192093 -1.443154 -1.039481 -0.631209  \n",
       "8  -0.606194 -0.864444 -0.706192 -1.388656 -0.650710  \n",
       "9  -0.998294 -0.810800 -0.981591 -1.278444 -1.107829  \n",
       "10 -0.720947 -0.332990  0.548204 -0.596229 -0.190672  \n",
       "11 -1.047841 -0.564348 -0.314559 -1.110768  0.105266  \n",
       "12  0.620764  0.926008 -1.941053 -2.111237 -1.768088  \n",
       "13 -0.244960 -0.000054 -1.409262 -0.781512 -0.618237  \n",
       "14 -1.176024 -1.058378 -0.410209 -1.027981 -0.549934  \n",
       "15 -0.341066 -1.554400 -1.516667  0.113708 -1.006452  \n",
       "16 -0.958640 -0.805372 -0.801574 -0.612442 -1.022886  \n",
       "17  0.039519 -0.135961 -0.715323 -0.719066 -1.201701  \n",
       "18 -1.576966 -1.742469 -1.161046 -0.964383 -1.316116  \n",
       "19 -0.515698 -1.110569 -0.872846  0.129311 -0.142658  \n",
       "20  1.839214  0.984469  1.229552  0.839711 -0.415842  \n",
       "21 -0.499890 -0.472178 -0.640636 -0.942633 -1.462932  \n",
       "22 -1.391842 -1.363522 -1.527203 -1.052013 -0.905395  \n",
       "23  0.085502 -0.074705  0.349369  0.598850  0.153169  \n",
       "24 -1.287787 -0.189025 -1.576739 -0.834170 -0.757507  \n",
       "25 -0.867913  0.203783 -0.771398 -0.335743 -0.471972  \n",
       "26 -0.798810 -0.740407  0.079962 -0.644739 -0.699253  \n",
       "27 -0.139232 -0.799767  0.019760 -0.942132  0.013121  \n",
       "28 -0.669232 -1.349964 -0.405544 -0.930632 -0.777303  \n",
       "29 -1.218196 -1.225446 -1.170861 -1.325109 -0.894582  \n",
       "\n",
       "[30 rows x 129 columns]"
      ]
     },
     "execution_count": 60,
     "metadata": {},
     "output_type": "execute_result"
    }
   ],
   "source": [
    "data\n"
   ]
  },
  {
   "cell_type": "markdown",
   "metadata": {
    "id": "_4a6AIrT19g3"
   },
   "source": [
    "Выполните визуализацию по одному временному ряду из каждого класса. Для этого используйте функцию `plot_ts()` из модуля *plots.py*."
   ]
  },
  {
   "cell_type": "code",
   "execution_count": 68,
   "metadata": {
    "id": "WWnUbJWmy1kB",
    "scrolled": true
   },
   "outputs": [
    {
     "data": {
      "text/html": [
       "<html>\n",
       "<head><meta charset=\"utf-8\" /></head>\n",
       "<body>\n",
       "    <div>            <script src=\"https://cdnjs.cloudflare.com/ajax/libs/mathjax/2.7.5/MathJax.js?config=TeX-AMS-MML_SVG\"></script><script type=\"text/javascript\">if (window.MathJax && window.MathJax.Hub && window.MathJax.Hub.Config) {window.MathJax.Hub.Config({SVG: {font: \"STIX-Web\"}});}</script>                <script type=\"text/javascript\">window.PlotlyConfig = {MathJaxConfig: 'local'};</script>\n",
       "        <script charset=\"utf-8\" src=\"https://cdn.plot.ly/plotly-2.35.2.min.js\"></script>                <div id=\"2f85249e-09b8-4fbc-bd83-60a652d8efec\" class=\"plotly-graph-div\" style=\"height:400px; width:1000px;\"></div>            <script type=\"text/javascript\">                                    window.PLOTLYENV=window.PLOTLYENV || {};                                    if (document.getElementById(\"2f85249e-09b8-4fbc-bd83-60a652d8efec\")) {                    Plotly.newPlot(                        \"2f85249e-09b8-4fbc-bd83-60a652d8efec\",                        [{\"line\":{\"width\":3},\"name\":\"Time series 1\",\"x\":[0,1,2,3,4,5,6,7,8,9,10,11,12,13,14,15,16,17,18,19,20,21,22,23,24,25,26,27,28,29,30,31,32,33,34,35,36,37,38,39,40,41,42,43,44,45,46,47,48,49,50,51,52,53,54,55,56,57,58,59,60,61,62,63,64,65,66,67,68,69,70,71,72,73,74,75,76,77,78,79,80,81,82,83,84,85,86,87,88,89,90,91,92,93,94,95,96,97,98,99,100,101,102,103,104,105,106,107,108,109,110,111,112,113,114,115,116,117,118,119,120,121,122,123,124,125,126,127,128],\"y\":[-0.46427649,-0.89697208,-0.46469596,-0.96583857,-1.1864222,-1.9453272,-1.4113675,-1.0860401,-1.6761689,-0.99331525],\"type\":\"scatter\"},{\"line\":{\"width\":3},\"name\":\"Time series 2\",\"x\":[0,1,2,3,4,5,6,7,8,9,10,11,12,13,14,15,16,17,18,19,20,21,22,23,24,25,26,27,28,29,30,31,32,33,34,35,36,37,38,39,40,41,42,43,44,45,46,47,48,49,50,51,52,53,54,55,56,57,58,59,60,61,62,63,64,65,66,67,68,69,70,71,72,73,74,75,76,77,78,79,80,81,82,83,84,85,86,87,88,89,90,91,92,93,94,95,96,97,98,99,100,101,102,103,104,105,106,107,108,109,110,111,112,113,114,115,116,117,118,119,120,121,122,123,124,125,126,127,128],\"y\":[-0.55504787,-0.68568553,-0.56773891,-1.6445832,-0.89319697,-1.4498402,-1.2082199,-1.1993047,-1.8393631,-0.86941944],\"type\":\"scatter\"},{\"line\":{\"width\":3},\"name\":\"Time series 3\",\"x\":[0,1,2,3,4,5,6,7,8,9,10,11,12,13,14,15,16,17,18,19,20,21,22,23,24,25,26,27,28,29,30,31,32,33,34,35,36,37,38,39,40,41,42,43,44,45,46,47,48,49,50,51,52,53,54,55,56,57,58,59,60,61,62,63,64,65,66,67,68,69,70,71,72,73,74,75,76,77,78,79,80,81,82,83,84,85,86,87,88,89,90,91,92,93,94,95,96,97,98,99,100,101,102,103,104,105,106,107,108,109,110,111,112,113,114,115,116,117,118,119,120,121,122,123,124,125,126,127,128],\"y\":[-0.8428431,-1.3513818,-0.032022764,-1.8059354,-0.97773692,-1.4889456,-0.68190674,-1.1205787,-1.8336474,-0.34513531],\"type\":\"scatter\"},{\"line\":{\"width\":3},\"name\":\"Time series 4\",\"x\":[0,1,2,3,4,5,6,7,8,9,10,11,12,13,14,15,16,17,18,19,20,21,22,23,24,25,26,27,28,29,30,31,32,33,34,35,36,37,38,39,40,41,42,43,44,45,46,47,48,49,50,51,52,53,54,55,56,57,58,59,60,61,62,63,64,65,66,67,68,69,70,71,72,73,74,75,76,77,78,79,80,81,82,83,84,85,86,87,88,89,90,91,92,93,94,95,96,97,98,99,100,101,102,103,104,105,106,107,108,109,110,111,112,113,114,115,116,117,118,119,120,121,122,123,124,125,126,127,128],\"y\":[-0.86589548,-1.4586668,-0.63504562,-1.4996576,-0.63410927,-1.8004841,-1.5045847,-1.196342,-1.9145249,-0.99690263],\"type\":\"scatter\"},{\"line\":{\"width\":3},\"name\":\"Time series 5\",\"x\":[0,1,2,3,4,5,6,7,8,9,10,11,12,13,14,15,16,17,18,19,20,21,22,23,24,25,26,27,28,29,30,31,32,33,34,35,36,37,38,39,40,41,42,43,44,45,46,47,48,49,50,51,52,53,54,55,56,57,58,59,60,61,62,63,64,65,66,67,68,69,70,71,72,73,74,75,76,77,78,79,80,81,82,83,84,85,86,87,88,89,90,91,92,93,94,95,96,97,98,99,100,101,102,103,104,105,106,107,108,109,110,111,112,113,114,115,116,117,118,119,120,121,122,123,124,125,126,127,128],\"y\":[-0.93639631,-1.1653456,-0.60282554,-0.92008793,-1.3848198,-2.3130602,-1.1234059,-1.9522055,-1.7558387,-1.7425352],\"type\":\"scatter\"},{\"line\":{\"width\":3},\"name\":\"Time series 6\",\"x\":[0,1,2,3,4,5,6,7,8,9,10,11,12,13,14,15,16,17,18,19,20,21,22,23,24,25,26,27,28,29,30,31,32,33,34,35,36,37,38,39,40,41,42,43,44,45,46,47,48,49,50,51,52,53,54,55,56,57,58,59,60,61,62,63,64,65,66,67,68,69,70,71,72,73,74,75,76,77,78,79,80,81,82,83,84,85,86,87,88,89,90,91,92,93,94,95,96,97,98,99,100,101,102,103,104,105,106,107,108,109,110,111,112,113,114,115,116,117,118,119,120,121,122,123,124,125,126,127,128],\"y\":[-0.81726995,-1.4039293,-0.26685628,-1.1157058,-1.2719261,-1.7720853,-1.5287978,-1.2724857,-1.0183235,-1.5874918],\"type\":\"scatter\"},{\"line\":{\"width\":3},\"name\":\"Time series 7\",\"x\":[0,1,2,3,4,5,6,7,8,9,10,11,12,13,14,15,16,17,18,19,20,21,22,23,24,25,26,27,28,29,30,31,32,33,34,35,36,37,38,39,40,41,42,43,44,45,46,47,48,49,50,51,52,53,54,55,56,57,58,59,60,61,62,63,64,65,66,67,68,69,70,71,72,73,74,75,76,77,78,79,80,81,82,83,84,85,86,87,88,89,90,91,92,93,94,95,96,97,98,99,100,101,102,103,104,105,106,107,108,109,110,111,112,113,114,115,116,117,118,119,120,121,122,123,124,125,126,127,128],\"y\":[-0.26361216,-1.8217996,-0.26706128,-0.65019532,-1.2121711,-2.1548821,-1.6484307,-0.58827598,-1.1306754,-1.3256724],\"type\":\"scatter\"},{\"line\":{\"width\":3},\"name\":\"Time series 8\",\"x\":[0,1,2,3,4,5,6,7,8,9,10,11,12,13,14,15,16,17,18,19,20,21,22,23,24,25,26,27,28,29,30,31,32,33,34,35,36,37,38,39,40,41,42,43,44,45,46,47,48,49,50,51,52,53,54,55,56,57,58,59,60,61,62,63,64,65,66,67,68,69,70,71,72,73,74,75,76,77,78,79,80,81,82,83,84,85,86,87,88,89,90,91,92,93,94,95,96,97,98,99,100,101,102,103,104,105,106,107,108,109,110,111,112,113,114,115,116,117,118,119,120,121,122,123,124,125,126,127,128],\"y\":[-1.2580483,-0.83160109,-0.9310423,-0.91876634,-1.4527917,-1.3312254,-1.2315116,-1.0469528,-1.310847,-1.4403564],\"type\":\"scatter\"},{\"line\":{\"width\":3},\"name\":\"Time series 9\",\"x\":[0,1,2,3,4,5,6,7,8,9,10,11,12,13,14,15,16,17,18,19,20,21,22,23,24,25,26,27,28,29,30,31,32,33,34,35,36,37,38,39,40,41,42,43,44,45,46,47,48,49,50,51,52,53,54,55,56,57,58,59,60,61,62,63,64,65,66,67,68,69,70,71,72,73,74,75,76,77,78,79,80,81,82,83,84,85,86,87,88,89,90,91,92,93,94,95,96,97,98,99,100,101,102,103,104,105,106,107,108,109,110,111,112,113,114,115,116,117,118,119,120,121,122,123,124,125,126,127,128],\"y\":[-1.2503934,-1.0163124,-0.44938186,-1.234708,-0.93441701,-2.2651396,-1.4515667,-1.6139084,-1.8164125,-1.2479575],\"type\":\"scatter\"}],                        {\"template\":{\"data\":{\"histogram2dcontour\":[{\"type\":\"histogram2dcontour\",\"colorbar\":{\"outlinewidth\":0,\"ticks\":\"\"},\"colorscale\":[[0.0,\"#0d0887\"],[0.1111111111111111,\"#46039f\"],[0.2222222222222222,\"#7201a8\"],[0.3333333333333333,\"#9c179e\"],[0.4444444444444444,\"#bd3786\"],[0.5555555555555556,\"#d8576b\"],[0.6666666666666666,\"#ed7953\"],[0.7777777777777778,\"#fb9f3a\"],[0.8888888888888888,\"#fdca26\"],[1.0,\"#f0f921\"]]}],\"choropleth\":[{\"type\":\"choropleth\",\"colorbar\":{\"outlinewidth\":0,\"ticks\":\"\"}}],\"histogram2d\":[{\"type\":\"histogram2d\",\"colorbar\":{\"outlinewidth\":0,\"ticks\":\"\"},\"colorscale\":[[0.0,\"#0d0887\"],[0.1111111111111111,\"#46039f\"],[0.2222222222222222,\"#7201a8\"],[0.3333333333333333,\"#9c179e\"],[0.4444444444444444,\"#bd3786\"],[0.5555555555555556,\"#d8576b\"],[0.6666666666666666,\"#ed7953\"],[0.7777777777777778,\"#fb9f3a\"],[0.8888888888888888,\"#fdca26\"],[1.0,\"#f0f921\"]]}],\"heatmap\":[{\"type\":\"heatmap\",\"colorbar\":{\"outlinewidth\":0,\"ticks\":\"\"},\"colorscale\":[[0.0,\"#0d0887\"],[0.1111111111111111,\"#46039f\"],[0.2222222222222222,\"#7201a8\"],[0.3333333333333333,\"#9c179e\"],[0.4444444444444444,\"#bd3786\"],[0.5555555555555556,\"#d8576b\"],[0.6666666666666666,\"#ed7953\"],[0.7777777777777778,\"#fb9f3a\"],[0.8888888888888888,\"#fdca26\"],[1.0,\"#f0f921\"]]}],\"heatmapgl\":[{\"type\":\"heatmapgl\",\"colorbar\":{\"outlinewidth\":0,\"ticks\":\"\"},\"colorscale\":[[0.0,\"#0d0887\"],[0.1111111111111111,\"#46039f\"],[0.2222222222222222,\"#7201a8\"],[0.3333333333333333,\"#9c179e\"],[0.4444444444444444,\"#bd3786\"],[0.5555555555555556,\"#d8576b\"],[0.6666666666666666,\"#ed7953\"],[0.7777777777777778,\"#fb9f3a\"],[0.8888888888888888,\"#fdca26\"],[1.0,\"#f0f921\"]]}],\"contourcarpet\":[{\"type\":\"contourcarpet\",\"colorbar\":{\"outlinewidth\":0,\"ticks\":\"\"}}],\"contour\":[{\"type\":\"contour\",\"colorbar\":{\"outlinewidth\":0,\"ticks\":\"\"},\"colorscale\":[[0.0,\"#0d0887\"],[0.1111111111111111,\"#46039f\"],[0.2222222222222222,\"#7201a8\"],[0.3333333333333333,\"#9c179e\"],[0.4444444444444444,\"#bd3786\"],[0.5555555555555556,\"#d8576b\"],[0.6666666666666666,\"#ed7953\"],[0.7777777777777778,\"#fb9f3a\"],[0.8888888888888888,\"#fdca26\"],[1.0,\"#f0f921\"]]}],\"surface\":[{\"type\":\"surface\",\"colorbar\":{\"outlinewidth\":0,\"ticks\":\"\"},\"colorscale\":[[0.0,\"#0d0887\"],[0.1111111111111111,\"#46039f\"],[0.2222222222222222,\"#7201a8\"],[0.3333333333333333,\"#9c179e\"],[0.4444444444444444,\"#bd3786\"],[0.5555555555555556,\"#d8576b\"],[0.6666666666666666,\"#ed7953\"],[0.7777777777777778,\"#fb9f3a\"],[0.8888888888888888,\"#fdca26\"],[1.0,\"#f0f921\"]]}],\"mesh3d\":[{\"type\":\"mesh3d\",\"colorbar\":{\"outlinewidth\":0,\"ticks\":\"\"}}],\"scatter\":[{\"fillpattern\":{\"fillmode\":\"overlay\",\"size\":10,\"solidity\":0.2},\"type\":\"scatter\"}],\"parcoords\":[{\"type\":\"parcoords\",\"line\":{\"colorbar\":{\"outlinewidth\":0,\"ticks\":\"\"}}}],\"scatterpolargl\":[{\"type\":\"scatterpolargl\",\"marker\":{\"colorbar\":{\"outlinewidth\":0,\"ticks\":\"\"}}}],\"bar\":[{\"error_x\":{\"color\":\"#2a3f5f\"},\"error_y\":{\"color\":\"#2a3f5f\"},\"marker\":{\"line\":{\"color\":\"#E5ECF6\",\"width\":0.5},\"pattern\":{\"fillmode\":\"overlay\",\"size\":10,\"solidity\":0.2}},\"type\":\"bar\"}],\"scattergeo\":[{\"type\":\"scattergeo\",\"marker\":{\"colorbar\":{\"outlinewidth\":0,\"ticks\":\"\"}}}],\"scatterpolar\":[{\"type\":\"scatterpolar\",\"marker\":{\"colorbar\":{\"outlinewidth\":0,\"ticks\":\"\"}}}],\"histogram\":[{\"marker\":{\"pattern\":{\"fillmode\":\"overlay\",\"size\":10,\"solidity\":0.2}},\"type\":\"histogram\"}],\"scattergl\":[{\"type\":\"scattergl\",\"marker\":{\"colorbar\":{\"outlinewidth\":0,\"ticks\":\"\"}}}],\"scatter3d\":[{\"type\":\"scatter3d\",\"line\":{\"colorbar\":{\"outlinewidth\":0,\"ticks\":\"\"}},\"marker\":{\"colorbar\":{\"outlinewidth\":0,\"ticks\":\"\"}}}],\"scattermapbox\":[{\"type\":\"scattermapbox\",\"marker\":{\"colorbar\":{\"outlinewidth\":0,\"ticks\":\"\"}}}],\"scatterternary\":[{\"type\":\"scatterternary\",\"marker\":{\"colorbar\":{\"outlinewidth\":0,\"ticks\":\"\"}}}],\"scattercarpet\":[{\"type\":\"scattercarpet\",\"marker\":{\"colorbar\":{\"outlinewidth\":0,\"ticks\":\"\"}}}],\"carpet\":[{\"aaxis\":{\"endlinecolor\":\"#2a3f5f\",\"gridcolor\":\"white\",\"linecolor\":\"white\",\"minorgridcolor\":\"white\",\"startlinecolor\":\"#2a3f5f\"},\"baxis\":{\"endlinecolor\":\"#2a3f5f\",\"gridcolor\":\"white\",\"linecolor\":\"white\",\"minorgridcolor\":\"white\",\"startlinecolor\":\"#2a3f5f\"},\"type\":\"carpet\"}],\"table\":[{\"cells\":{\"fill\":{\"color\":\"#EBF0F8\"},\"line\":{\"color\":\"white\"}},\"header\":{\"fill\":{\"color\":\"#C8D4E3\"},\"line\":{\"color\":\"white\"}},\"type\":\"table\"}],\"barpolar\":[{\"marker\":{\"line\":{\"color\":\"#E5ECF6\",\"width\":0.5},\"pattern\":{\"fillmode\":\"overlay\",\"size\":10,\"solidity\":0.2}},\"type\":\"barpolar\"}],\"pie\":[{\"automargin\":true,\"type\":\"pie\"}]},\"layout\":{\"autotypenumbers\":\"strict\",\"colorway\":[\"#636efa\",\"#EF553B\",\"#00cc96\",\"#ab63fa\",\"#FFA15A\",\"#19d3f3\",\"#FF6692\",\"#B6E880\",\"#FF97FF\",\"#FECB52\"],\"font\":{\"color\":\"#2a3f5f\"},\"hovermode\":\"closest\",\"hoverlabel\":{\"align\":\"left\"},\"paper_bgcolor\":\"white\",\"plot_bgcolor\":\"#E5ECF6\",\"polar\":{\"bgcolor\":\"#E5ECF6\",\"angularaxis\":{\"gridcolor\":\"white\",\"linecolor\":\"white\",\"ticks\":\"\"},\"radialaxis\":{\"gridcolor\":\"white\",\"linecolor\":\"white\",\"ticks\":\"\"}},\"ternary\":{\"bgcolor\":\"#E5ECF6\",\"aaxis\":{\"gridcolor\":\"white\",\"linecolor\":\"white\",\"ticks\":\"\"},\"baxis\":{\"gridcolor\":\"white\",\"linecolor\":\"white\",\"ticks\":\"\"},\"caxis\":{\"gridcolor\":\"white\",\"linecolor\":\"white\",\"ticks\":\"\"}},\"coloraxis\":{\"colorbar\":{\"outlinewidth\":0,\"ticks\":\"\"}},\"colorscale\":{\"sequential\":[[0.0,\"#0d0887\"],[0.1111111111111111,\"#46039f\"],[0.2222222222222222,\"#7201a8\"],[0.3333333333333333,\"#9c179e\"],[0.4444444444444444,\"#bd3786\"],[0.5555555555555556,\"#d8576b\"],[0.6666666666666666,\"#ed7953\"],[0.7777777777777778,\"#fb9f3a\"],[0.8888888888888888,\"#fdca26\"],[1.0,\"#f0f921\"]],\"sequentialminus\":[[0.0,\"#0d0887\"],[0.1111111111111111,\"#46039f\"],[0.2222222222222222,\"#7201a8\"],[0.3333333333333333,\"#9c179e\"],[0.4444444444444444,\"#bd3786\"],[0.5555555555555556,\"#d8576b\"],[0.6666666666666666,\"#ed7953\"],[0.7777777777777778,\"#fb9f3a\"],[0.8888888888888888,\"#fdca26\"],[1.0,\"#f0f921\"]],\"diverging\":[[0,\"#8e0152\"],[0.1,\"#c51b7d\"],[0.2,\"#de77ae\"],[0.3,\"#f1b6da\"],[0.4,\"#fde0ef\"],[0.5,\"#f7f7f7\"],[0.6,\"#e6f5d0\"],[0.7,\"#b8e186\"],[0.8,\"#7fbc41\"],[0.9,\"#4d9221\"],[1,\"#276419\"]]},\"xaxis\":{\"gridcolor\":\"white\",\"linecolor\":\"white\",\"ticks\":\"\",\"title\":{\"standoff\":15},\"zerolinecolor\":\"white\",\"automargin\":true,\"zerolinewidth\":2},\"yaxis\":{\"gridcolor\":\"white\",\"linecolor\":\"white\",\"ticks\":\"\",\"title\":{\"standoff\":15},\"zerolinecolor\":\"white\",\"automargin\":true,\"zerolinewidth\":2},\"scene\":{\"xaxis\":{\"backgroundcolor\":\"#E5ECF6\",\"gridcolor\":\"white\",\"linecolor\":\"white\",\"showbackground\":true,\"ticks\":\"\",\"zerolinecolor\":\"white\",\"gridwidth\":2},\"yaxis\":{\"backgroundcolor\":\"#E5ECF6\",\"gridcolor\":\"white\",\"linecolor\":\"white\",\"showbackground\":true,\"ticks\":\"\",\"zerolinecolor\":\"white\",\"gridwidth\":2},\"zaxis\":{\"backgroundcolor\":\"#E5ECF6\",\"gridcolor\":\"white\",\"linecolor\":\"white\",\"showbackground\":true,\"ticks\":\"\",\"zerolinecolor\":\"white\",\"gridwidth\":2}},\"shapedefaults\":{\"line\":{\"color\":\"#2a3f5f\"}},\"annotationdefaults\":{\"arrowcolor\":\"#2a3f5f\",\"arrowhead\":0,\"arrowwidth\":1},\"geo\":{\"bgcolor\":\"white\",\"landcolor\":\"#E5ECF6\",\"subunitcolor\":\"white\",\"showland\":true,\"showlakes\":true,\"lakecolor\":\"white\"},\"title\":{\"x\":0.05},\"mapbox\":{\"style\":\"light\"}}},\"xaxis\":{\"title\":{\"text\":\"Time\",\"font\":{\"size\":18,\"color\":\"black\"}},\"tickfont\":{\"size\":16,\"color\":\"black\"},\"showgrid\":false,\"linecolor\":\"#000\",\"ticks\":\"outside\",\"linewidth\":1,\"tickwidth\":1},\"yaxis\":{\"title\":{\"text\":\"Values\",\"font\":{\"size\":18,\"color\":\"black\"}},\"tickfont\":{\"size\":16,\"color\":\"black\"},\"showgrid\":false,\"linecolor\":\"#000\",\"ticks\":\"outside\",\"zeroline\":false,\"linewidth\":1,\"tickwidth\":1},\"title\":{\"font\":{\"size\":18,\"color\":\"black\"},\"text\":\"first\",\"x\":0.5,\"y\":0.9,\"xanchor\":\"center\",\"yanchor\":\"top\"},\"legend\":{\"font\":{\"size\":16,\"color\":\"black\"}},\"plot_bgcolor\":\"rgba(0,0,0,0)\",\"paper_bgcolor\":\"rgba(0,0,0,0)\",\"width\":1000,\"height\":400},                        {\"responsive\": true}                    ).then(function(){\n",
       "                            \n",
       "var gd = document.getElementById('2f85249e-09b8-4fbc-bd83-60a652d8efec');\n",
       "var x = new MutationObserver(function (mutations, observer) {{\n",
       "        var display = window.getComputedStyle(gd).display;\n",
       "        if (!display || display === 'none') {{\n",
       "            console.log([gd, 'removed!']);\n",
       "            Plotly.purge(gd);\n",
       "            observer.disconnect();\n",
       "        }}\n",
       "}});\n",
       "\n",
       "// Listen for the removal of the full notebook cells\n",
       "var notebookContainer = gd.closest('#notebook-container');\n",
       "if (notebookContainer) {{\n",
       "    x.observe(notebookContainer, {childList: true});\n",
       "}}\n",
       "\n",
       "// Listen for the clearing of the current output cell\n",
       "var outputEl = gd.closest('.output');\n",
       "if (outputEl) {{\n",
       "    x.observe(outputEl, {childList: true});\n",
       "}}\n",
       "\n",
       "                        })                };                            </script>        </div>\n",
       "</body>\n",
       "</html>"
      ]
     },
     "metadata": {},
     "output_type": "display_data"
    },
    {
     "data": {
      "text/html": [
       "<html>\n",
       "<head><meta charset=\"utf-8\" /></head>\n",
       "<body>\n",
       "    <div>            <script src=\"https://cdnjs.cloudflare.com/ajax/libs/mathjax/2.7.5/MathJax.js?config=TeX-AMS-MML_SVG\"></script><script type=\"text/javascript\">if (window.MathJax && window.MathJax.Hub && window.MathJax.Hub.Config) {window.MathJax.Hub.Config({SVG: {font: \"STIX-Web\"}});}</script>                <script type=\"text/javascript\">window.PlotlyConfig = {MathJaxConfig: 'local'};</script>\n",
       "        <script charset=\"utf-8\" src=\"https://cdn.plot.ly/plotly-2.35.2.min.js\"></script>                <div id=\"af62ad48-bd8e-4939-b4b7-0806de20654b\" class=\"plotly-graph-div\" style=\"height:400px; width:1000px;\"></div>            <script type=\"text/javascript\">                                    window.PLOTLYENV=window.PLOTLYENV || {};                                    if (document.getElementById(\"af62ad48-bd8e-4939-b4b7-0806de20654b\")) {                    Plotly.newPlot(                        \"af62ad48-bd8e-4939-b4b7-0806de20654b\",                        [{\"line\":{\"width\":3},\"name\":\"Time series 1\",\"x\":[0,1,2,3,4,5,6,7,8,9,10,11,12,13,14,15,16,17,18,19,20,21,22,23,24,25,26,27,28,29,30,31,32,33,34,35,36,37,38,39,40,41,42,43,44,45,46,47,48,49,50,51,52,53,54,55,56,57,58,59,60,61,62,63,64,65,66,67,68,69,70,71,72,73,74,75,76,77,78,79,80,81,82,83,84,85,86,87,88,89,90,91,92,93,94,95,96,97,98,99,100,101,102,103,104,105,106,107,108,109,110,111,112,113,114,115,116,117,118,119,120,121,122,123,124,125,126,127,128],\"y\":[-1.1360166,-0.56870868,-0.80371556,-0.65330839,-0.54187618,0.045628238,-0.41319747,-0.72535432,-1.4575411,-1.4516799,-0.53445246,-0.19181256],\"type\":\"scatter\"},{\"line\":{\"width\":3},\"name\":\"Time series 2\",\"x\":[0,1,2,3,4,5,6,7,8,9,10,11,12,13,14,15,16,17,18,19,20,21,22,23,24,25,26,27,28,29,30,31,32,33,34,35,36,37,38,39,40,41,42,43,44,45,46,47,48,49,50,51,52,53,54,55,56,57,58,59,60,61,62,63,64,65,66,67,68,69,70,71,72,73,74,75,76,77,78,79,80,81,82,83,84,85,86,87,88,89,90,91,92,93,94,95,96,97,98,99,100,101,102,103,104,105,106,107,108,109,110,111,112,113,114,115,116,117,118,119,120,121,122,123,124,125,126,127,128],\"y\":[-1.3191953,-0.88811805,-0.048160532,-1.2951848,-1.016107,-1.1299653,-0.40093457,-0.83786282,-0.66812559,-1.4452721,-0.95435372,-0.046090166],\"type\":\"scatter\"},{\"line\":{\"width\":3},\"name\":\"Time series 3\",\"x\":[0,1,2,3,4,5,6,7,8,9,10,11,12,13,14,15,16,17,18,19,20,21,22,23,24,25,26,27,28,29,30,31,32,33,34,35,36,37,38,39,40,41,42,43,44,45,46,47,48,49,50,51,52,53,54,55,56,57,58,59,60,61,62,63,64,65,66,67,68,69,70,71,72,73,74,75,76,77,78,79,80,81,82,83,84,85,86,87,88,89,90,91,92,93,94,95,96,97,98,99,100,101,102,103,104,105,106,107,108,109,110,111,112,113,114,115,116,117,118,119,120,121,122,123,124,125,126,127,128],\"y\":[-1.8446238,-0.047976584,-1.2992782,-0.45738382,-1.0799024,-0.52060748,-0.48202739,-1.013462,-1.1113596,-1.0735985,-0.80671095,-1.3652374],\"type\":\"scatter\"},{\"line\":{\"width\":3},\"name\":\"Time series 4\",\"x\":[0,1,2,3,4,5,6,7,8,9,10,11,12,13,14,15,16,17,18,19,20,21,22,23,24,25,26,27,28,29,30,31,32,33,34,35,36,37,38,39,40,41,42,43,44,45,46,47,48,49,50,51,52,53,54,55,56,57,58,59,60,61,62,63,64,65,66,67,68,69,70,71,72,73,74,75,76,77,78,79,80,81,82,83,84,85,86,87,88,89,90,91,92,93,94,95,96,97,98,99,100,101,102,103,104,105,106,107,108,109,110,111,112,113,114,115,116,117,118,119,120,121,122,123,124,125,126,127,128],\"y\":[-0.78869178,-0.038036109,-1.0722798,-1.0920364,-1.1856653,-1.0671846,-1.4029714,-0.46572995,-0.34308432,-1.2672501,-1.2468315,-0.90739761],\"type\":\"scatter\"},{\"line\":{\"width\":3},\"name\":\"Time series 5\",\"x\":[0,1,2,3,4,5,6,7,8,9,10,11,12,13,14,15,16,17,18,19,20,21,22,23,24,25,26,27,28,29,30,31,32,33,34,35,36,37,38,39,40,41,42,43,44,45,46,47,48,49,50,51,52,53,54,55,56,57,58,59,60,61,62,63,64,65,66,67,68,69,70,71,72,73,74,75,76,77,78,79,80,81,82,83,84,85,86,87,88,89,90,91,92,93,94,95,96,97,98,99,100,101,102,103,104,105,106,107,108,109,110,111,112,113,114,115,116,117,118,119,120,121,122,123,124,125,126,127,128],\"y\":[-0.2517154,-0.48306827,-1.004018,-1.6823461,-0.79245206,-1.3322887,-1.6825953,-1.6913581,-0.70083609,-0.70065033,-0.9643141,-0.86673694],\"type\":\"scatter\"},{\"line\":{\"width\":3},\"name\":\"Time series 6\",\"x\":[0,1,2,3,4,5,6,7,8,9,10,11,12,13,14,15,16,17,18,19,20,21,22,23,24,25,26,27,28,29,30,31,32,33,34,35,36,37,38,39,40,41,42,43,44,45,46,47,48,49,50,51,52,53,54,55,56,57,58,59,60,61,62,63,64,65,66,67,68,69,70,71,72,73,74,75,76,77,78,79,80,81,82,83,84,85,86,87,88,89,90,91,92,93,94,95,96,97,98,99,100,101,102,103,104,105,106,107,108,109,110,111,112,113,114,115,116,117,118,119,120,121,122,123,124,125,126,127,128],\"y\":[-1.4876032,-1.0946887,-0.51145233,-0.46181073,-0.7545928,-0.86241869,-0.88150431,-0.89411332,-1.6145191,-1.8999688,-1.2763088,-1.1901317],\"type\":\"scatter\"},{\"line\":{\"width\":3},\"name\":\"Time series 7\",\"x\":[0,1,2,3,4,5,6,7,8,9,10,11,12,13,14,15,16,17,18,19,20,21,22,23,24,25,26,27,28,29,30,31,32,33,34,35,36,37,38,39,40,41,42,43,44,45,46,47,48,49,50,51,52,53,54,55,56,57,58,59,60,61,62,63,64,65,66,67,68,69,70,71,72,73,74,75,76,77,78,79,80,81,82,83,84,85,86,87,88,89,90,91,92,93,94,95,96,97,98,99,100,101,102,103,104,105,106,107,108,109,110,111,112,113,114,115,116,117,118,119,120,121,122,123,124,125,126,127,128],\"y\":[-0.66876407,-0.95345287,-1.1732155,-0.099362417,-0.057041218,-1.0303567,-0.96358359,-0.94373184,-0.32822282,-1.5817058,-0.4257909,-1.1332513],\"type\":\"scatter\"},{\"line\":{\"width\":3},\"name\":\"Time series 8\",\"x\":[0,1,2,3,4,5,6,7,8,9,10,11,12,13,14,15,16,17,18,19,20,21,22,23,24,25,26,27,28,29,30,31,32,33,34,35,36,37,38,39,40,41,42,43,44,45,46,47,48,49,50,51,52,53,54,55,56,57,58,59,60,61,62,63,64,65,66,67,68,69,70,71,72,73,74,75,76,77,78,79,80,81,82,83,84,85,86,87,88,89,90,91,92,93,94,95,96,97,98,99,100,101,102,103,104,105,106,107,108,109,110,111,112,113,114,115,116,117,118,119,120,121,122,123,124,125,126,127,128],\"y\":[-0.34036037,-0.030006881,-0.42206193,-0.83480913,-0.43711047,-1.0694771,-0.97870607,-0.27883962,-1.147196,-1.1126308,-1.6539739,-0.32619413],\"type\":\"scatter\"},{\"line\":{\"width\":3},\"name\":\"Time series 9\",\"x\":[0,1,2,3,4,5,6,7,8,9,10,11,12,13,14,15,16,17,18,19,20,21,22,23,24,25,26,27,28,29,30,31,32,33,34,35,36,37,38,39,40,41,42,43,44,45,46,47,48,49,50,51,52,53,54,55,56,57,58,59,60,61,62,63,64,65,66,67,68,69,70,71,72,73,74,75,76,77,78,79,80,81,82,83,84,85,86,87,88,89,90,91,92,93,94,95,96,97,98,99,100,101,102,103,104,105,106,107,108,109,110,111,112,113,114,115,116,117,118,119,120,121,122,123,124,125,126,127,128],\"y\":[-1.0463815,-0.79545456,-0.77931962,-0.63588089,-1.071181,-0.28594248,-1.3344809,-1.5188553,-0.95955295,-1.9280325,-0.023964525,-0.42989176],\"type\":\"scatter\"},{\"line\":{\"width\":3},\"name\":\"Time series 10\",\"x\":[0,1,2,3,4,5,6,7,8,9,10,11,12,13,14,15,16,17,18,19,20,21,22,23,24,25,26,27,28,29,30,31,32,33,34,35,36,37,38,39,40,41,42,43,44,45,46,47,48,49,50,51,52,53,54,55,56,57,58,59,60,61,62,63,64,65,66,67,68,69,70,71,72,73,74,75,76,77,78,79,80,81,82,83,84,85,86,87,88,89,90,91,92,93,94,95,96,97,98,99,100,101,102,103,104,105,106,107,108,109,110,111,112,113,114,115,116,117,118,119,120,121,122,123,124,125,126,127,128],\"y\":[-0.31221353,-0.51445458,-1.0305855,-1.0005826,-1.4760344,-1.2188799,0.088190119,-1.5946845,-0.9377379,-0.86083952,-0.72056942,-0.37947372],\"type\":\"scatter\"},{\"line\":{\"width\":3},\"name\":\"Time series 11\",\"x\":[0,1,2,3,4,5,6,7,8,9,10,11,12,13,14,15,16,17,18,19,20,21,22,23,24,25,26,27,28,29,30,31,32,33,34,35,36,37,38,39,40,41,42,43,44,45,46,47,48,49,50,51,52,53,54,55,56,57,58,59,60,61,62,63,64,65,66,67,68,69,70,71,72,73,74,75,76,77,78,79,80,81,82,83,84,85,86,87,88,89,90,91,92,93,94,95,96,97,98,99,100,101,102,103,104,105,106,107,108,109,110,111,112,113,114,115,116,117,118,119,120,121,122,123,124,125,126,127,128],\"y\":[-1.0314417,-0.71876142,-0.93986722,-0.70228705,0.47155477,-0.2853232,-1.1303511,-1.3426236,-1.1292483,-1.5228447,-0.68575347,-0.42582009],\"type\":\"scatter\"}],                        {\"template\":{\"data\":{\"histogram2dcontour\":[{\"type\":\"histogram2dcontour\",\"colorbar\":{\"outlinewidth\":0,\"ticks\":\"\"},\"colorscale\":[[0.0,\"#0d0887\"],[0.1111111111111111,\"#46039f\"],[0.2222222222222222,\"#7201a8\"],[0.3333333333333333,\"#9c179e\"],[0.4444444444444444,\"#bd3786\"],[0.5555555555555556,\"#d8576b\"],[0.6666666666666666,\"#ed7953\"],[0.7777777777777778,\"#fb9f3a\"],[0.8888888888888888,\"#fdca26\"],[1.0,\"#f0f921\"]]}],\"choropleth\":[{\"type\":\"choropleth\",\"colorbar\":{\"outlinewidth\":0,\"ticks\":\"\"}}],\"histogram2d\":[{\"type\":\"histogram2d\",\"colorbar\":{\"outlinewidth\":0,\"ticks\":\"\"},\"colorscale\":[[0.0,\"#0d0887\"],[0.1111111111111111,\"#46039f\"],[0.2222222222222222,\"#7201a8\"],[0.3333333333333333,\"#9c179e\"],[0.4444444444444444,\"#bd3786\"],[0.5555555555555556,\"#d8576b\"],[0.6666666666666666,\"#ed7953\"],[0.7777777777777778,\"#fb9f3a\"],[0.8888888888888888,\"#fdca26\"],[1.0,\"#f0f921\"]]}],\"heatmap\":[{\"type\":\"heatmap\",\"colorbar\":{\"outlinewidth\":0,\"ticks\":\"\"},\"colorscale\":[[0.0,\"#0d0887\"],[0.1111111111111111,\"#46039f\"],[0.2222222222222222,\"#7201a8\"],[0.3333333333333333,\"#9c179e\"],[0.4444444444444444,\"#bd3786\"],[0.5555555555555556,\"#d8576b\"],[0.6666666666666666,\"#ed7953\"],[0.7777777777777778,\"#fb9f3a\"],[0.8888888888888888,\"#fdca26\"],[1.0,\"#f0f921\"]]}],\"heatmapgl\":[{\"type\":\"heatmapgl\",\"colorbar\":{\"outlinewidth\":0,\"ticks\":\"\"},\"colorscale\":[[0.0,\"#0d0887\"],[0.1111111111111111,\"#46039f\"],[0.2222222222222222,\"#7201a8\"],[0.3333333333333333,\"#9c179e\"],[0.4444444444444444,\"#bd3786\"],[0.5555555555555556,\"#d8576b\"],[0.6666666666666666,\"#ed7953\"],[0.7777777777777778,\"#fb9f3a\"],[0.8888888888888888,\"#fdca26\"],[1.0,\"#f0f921\"]]}],\"contourcarpet\":[{\"type\":\"contourcarpet\",\"colorbar\":{\"outlinewidth\":0,\"ticks\":\"\"}}],\"contour\":[{\"type\":\"contour\",\"colorbar\":{\"outlinewidth\":0,\"ticks\":\"\"},\"colorscale\":[[0.0,\"#0d0887\"],[0.1111111111111111,\"#46039f\"],[0.2222222222222222,\"#7201a8\"],[0.3333333333333333,\"#9c179e\"],[0.4444444444444444,\"#bd3786\"],[0.5555555555555556,\"#d8576b\"],[0.6666666666666666,\"#ed7953\"],[0.7777777777777778,\"#fb9f3a\"],[0.8888888888888888,\"#fdca26\"],[1.0,\"#f0f921\"]]}],\"surface\":[{\"type\":\"surface\",\"colorbar\":{\"outlinewidth\":0,\"ticks\":\"\"},\"colorscale\":[[0.0,\"#0d0887\"],[0.1111111111111111,\"#46039f\"],[0.2222222222222222,\"#7201a8\"],[0.3333333333333333,\"#9c179e\"],[0.4444444444444444,\"#bd3786\"],[0.5555555555555556,\"#d8576b\"],[0.6666666666666666,\"#ed7953\"],[0.7777777777777778,\"#fb9f3a\"],[0.8888888888888888,\"#fdca26\"],[1.0,\"#f0f921\"]]}],\"mesh3d\":[{\"type\":\"mesh3d\",\"colorbar\":{\"outlinewidth\":0,\"ticks\":\"\"}}],\"scatter\":[{\"fillpattern\":{\"fillmode\":\"overlay\",\"size\":10,\"solidity\":0.2},\"type\":\"scatter\"}],\"parcoords\":[{\"type\":\"parcoords\",\"line\":{\"colorbar\":{\"outlinewidth\":0,\"ticks\":\"\"}}}],\"scatterpolargl\":[{\"type\":\"scatterpolargl\",\"marker\":{\"colorbar\":{\"outlinewidth\":0,\"ticks\":\"\"}}}],\"bar\":[{\"error_x\":{\"color\":\"#2a3f5f\"},\"error_y\":{\"color\":\"#2a3f5f\"},\"marker\":{\"line\":{\"color\":\"#E5ECF6\",\"width\":0.5},\"pattern\":{\"fillmode\":\"overlay\",\"size\":10,\"solidity\":0.2}},\"type\":\"bar\"}],\"scattergeo\":[{\"type\":\"scattergeo\",\"marker\":{\"colorbar\":{\"outlinewidth\":0,\"ticks\":\"\"}}}],\"scatterpolar\":[{\"type\":\"scatterpolar\",\"marker\":{\"colorbar\":{\"outlinewidth\":0,\"ticks\":\"\"}}}],\"histogram\":[{\"marker\":{\"pattern\":{\"fillmode\":\"overlay\",\"size\":10,\"solidity\":0.2}},\"type\":\"histogram\"}],\"scattergl\":[{\"type\":\"scattergl\",\"marker\":{\"colorbar\":{\"outlinewidth\":0,\"ticks\":\"\"}}}],\"scatter3d\":[{\"type\":\"scatter3d\",\"line\":{\"colorbar\":{\"outlinewidth\":0,\"ticks\":\"\"}},\"marker\":{\"colorbar\":{\"outlinewidth\":0,\"ticks\":\"\"}}}],\"scattermapbox\":[{\"type\":\"scattermapbox\",\"marker\":{\"colorbar\":{\"outlinewidth\":0,\"ticks\":\"\"}}}],\"scatterternary\":[{\"type\":\"scatterternary\",\"marker\":{\"colorbar\":{\"outlinewidth\":0,\"ticks\":\"\"}}}],\"scattercarpet\":[{\"type\":\"scattercarpet\",\"marker\":{\"colorbar\":{\"outlinewidth\":0,\"ticks\":\"\"}}}],\"carpet\":[{\"aaxis\":{\"endlinecolor\":\"#2a3f5f\",\"gridcolor\":\"white\",\"linecolor\":\"white\",\"minorgridcolor\":\"white\",\"startlinecolor\":\"#2a3f5f\"},\"baxis\":{\"endlinecolor\":\"#2a3f5f\",\"gridcolor\":\"white\",\"linecolor\":\"white\",\"minorgridcolor\":\"white\",\"startlinecolor\":\"#2a3f5f\"},\"type\":\"carpet\"}],\"table\":[{\"cells\":{\"fill\":{\"color\":\"#EBF0F8\"},\"line\":{\"color\":\"white\"}},\"header\":{\"fill\":{\"color\":\"#C8D4E3\"},\"line\":{\"color\":\"white\"}},\"type\":\"table\"}],\"barpolar\":[{\"marker\":{\"line\":{\"color\":\"#E5ECF6\",\"width\":0.5},\"pattern\":{\"fillmode\":\"overlay\",\"size\":10,\"solidity\":0.2}},\"type\":\"barpolar\"}],\"pie\":[{\"automargin\":true,\"type\":\"pie\"}]},\"layout\":{\"autotypenumbers\":\"strict\",\"colorway\":[\"#636efa\",\"#EF553B\",\"#00cc96\",\"#ab63fa\",\"#FFA15A\",\"#19d3f3\",\"#FF6692\",\"#B6E880\",\"#FF97FF\",\"#FECB52\"],\"font\":{\"color\":\"#2a3f5f\"},\"hovermode\":\"closest\",\"hoverlabel\":{\"align\":\"left\"},\"paper_bgcolor\":\"white\",\"plot_bgcolor\":\"#E5ECF6\",\"polar\":{\"bgcolor\":\"#E5ECF6\",\"angularaxis\":{\"gridcolor\":\"white\",\"linecolor\":\"white\",\"ticks\":\"\"},\"radialaxis\":{\"gridcolor\":\"white\",\"linecolor\":\"white\",\"ticks\":\"\"}},\"ternary\":{\"bgcolor\":\"#E5ECF6\",\"aaxis\":{\"gridcolor\":\"white\",\"linecolor\":\"white\",\"ticks\":\"\"},\"baxis\":{\"gridcolor\":\"white\",\"linecolor\":\"white\",\"ticks\":\"\"},\"caxis\":{\"gridcolor\":\"white\",\"linecolor\":\"white\",\"ticks\":\"\"}},\"coloraxis\":{\"colorbar\":{\"outlinewidth\":0,\"ticks\":\"\"}},\"colorscale\":{\"sequential\":[[0.0,\"#0d0887\"],[0.1111111111111111,\"#46039f\"],[0.2222222222222222,\"#7201a8\"],[0.3333333333333333,\"#9c179e\"],[0.4444444444444444,\"#bd3786\"],[0.5555555555555556,\"#d8576b\"],[0.6666666666666666,\"#ed7953\"],[0.7777777777777778,\"#fb9f3a\"],[0.8888888888888888,\"#fdca26\"],[1.0,\"#f0f921\"]],\"sequentialminus\":[[0.0,\"#0d0887\"],[0.1111111111111111,\"#46039f\"],[0.2222222222222222,\"#7201a8\"],[0.3333333333333333,\"#9c179e\"],[0.4444444444444444,\"#bd3786\"],[0.5555555555555556,\"#d8576b\"],[0.6666666666666666,\"#ed7953\"],[0.7777777777777778,\"#fb9f3a\"],[0.8888888888888888,\"#fdca26\"],[1.0,\"#f0f921\"]],\"diverging\":[[0,\"#8e0152\"],[0.1,\"#c51b7d\"],[0.2,\"#de77ae\"],[0.3,\"#f1b6da\"],[0.4,\"#fde0ef\"],[0.5,\"#f7f7f7\"],[0.6,\"#e6f5d0\"],[0.7,\"#b8e186\"],[0.8,\"#7fbc41\"],[0.9,\"#4d9221\"],[1,\"#276419\"]]},\"xaxis\":{\"gridcolor\":\"white\",\"linecolor\":\"white\",\"ticks\":\"\",\"title\":{\"standoff\":15},\"zerolinecolor\":\"white\",\"automargin\":true,\"zerolinewidth\":2},\"yaxis\":{\"gridcolor\":\"white\",\"linecolor\":\"white\",\"ticks\":\"\",\"title\":{\"standoff\":15},\"zerolinecolor\":\"white\",\"automargin\":true,\"zerolinewidth\":2},\"scene\":{\"xaxis\":{\"backgroundcolor\":\"#E5ECF6\",\"gridcolor\":\"white\",\"linecolor\":\"white\",\"showbackground\":true,\"ticks\":\"\",\"zerolinecolor\":\"white\",\"gridwidth\":2},\"yaxis\":{\"backgroundcolor\":\"#E5ECF6\",\"gridcolor\":\"white\",\"linecolor\":\"white\",\"showbackground\":true,\"ticks\":\"\",\"zerolinecolor\":\"white\",\"gridwidth\":2},\"zaxis\":{\"backgroundcolor\":\"#E5ECF6\",\"gridcolor\":\"white\",\"linecolor\":\"white\",\"showbackground\":true,\"ticks\":\"\",\"zerolinecolor\":\"white\",\"gridwidth\":2}},\"shapedefaults\":{\"line\":{\"color\":\"#2a3f5f\"}},\"annotationdefaults\":{\"arrowcolor\":\"#2a3f5f\",\"arrowhead\":0,\"arrowwidth\":1},\"geo\":{\"bgcolor\":\"white\",\"landcolor\":\"#E5ECF6\",\"subunitcolor\":\"white\",\"showland\":true,\"showlakes\":true,\"lakecolor\":\"white\"},\"title\":{\"x\":0.05},\"mapbox\":{\"style\":\"light\"}}},\"xaxis\":{\"title\":{\"text\":\"Time\",\"font\":{\"size\":18,\"color\":\"black\"}},\"tickfont\":{\"size\":16,\"color\":\"black\"},\"showgrid\":false,\"linecolor\":\"#000\",\"ticks\":\"outside\",\"linewidth\":1,\"tickwidth\":1},\"yaxis\":{\"title\":{\"text\":\"Values\",\"font\":{\"size\":18,\"color\":\"black\"}},\"tickfont\":{\"size\":16,\"color\":\"black\"},\"showgrid\":false,\"linecolor\":\"#000\",\"ticks\":\"outside\",\"zeroline\":false,\"linewidth\":1,\"tickwidth\":1},\"title\":{\"font\":{\"size\":18,\"color\":\"black\"},\"text\":\"second\",\"x\":0.5,\"y\":0.9,\"xanchor\":\"center\",\"yanchor\":\"top\"},\"legend\":{\"font\":{\"size\":16,\"color\":\"black\"}},\"plot_bgcolor\":\"rgba(0,0,0,0)\",\"paper_bgcolor\":\"rgba(0,0,0,0)\",\"width\":1000,\"height\":400},                        {\"responsive\": true}                    ).then(function(){\n",
       "                            \n",
       "var gd = document.getElementById('af62ad48-bd8e-4939-b4b7-0806de20654b');\n",
       "var x = new MutationObserver(function (mutations, observer) {{\n",
       "        var display = window.getComputedStyle(gd).display;\n",
       "        if (!display || display === 'none') {{\n",
       "            console.log([gd, 'removed!']);\n",
       "            Plotly.purge(gd);\n",
       "            observer.disconnect();\n",
       "        }}\n",
       "}});\n",
       "\n",
       "// Listen for the removal of the full notebook cells\n",
       "var notebookContainer = gd.closest('#notebook-container');\n",
       "if (notebookContainer) {{\n",
       "    x.observe(notebookContainer, {childList: true});\n",
       "}}\n",
       "\n",
       "// Listen for the clearing of the current output cell\n",
       "var outputEl = gd.closest('.output');\n",
       "if (outputEl) {{\n",
       "    x.observe(outputEl, {childList: true});\n",
       "}}\n",
       "\n",
       "                        })                };                            </script>        </div>\n",
       "</body>\n",
       "</html>"
      ]
     },
     "metadata": {},
     "output_type": "display_data"
    },
    {
     "data": {
      "text/html": [
       "<html>\n",
       "<head><meta charset=\"utf-8\" /></head>\n",
       "<body>\n",
       "    <div>            <script src=\"https://cdnjs.cloudflare.com/ajax/libs/mathjax/2.7.5/MathJax.js?config=TeX-AMS-MML_SVG\"></script><script type=\"text/javascript\">if (window.MathJax && window.MathJax.Hub && window.MathJax.Hub.Config) {window.MathJax.Hub.Config({SVG: {font: \"STIX-Web\"}});}</script>                <script type=\"text/javascript\">window.PlotlyConfig = {MathJaxConfig: 'local'};</script>\n",
       "        <script charset=\"utf-8\" src=\"https://cdn.plot.ly/plotly-2.35.2.min.js\"></script>                <div id=\"e44bddac-47eb-4719-a59c-586bb96a05c5\" class=\"plotly-graph-div\" style=\"height:400px; width:1000px;\"></div>            <script type=\"text/javascript\">                                    window.PLOTLYENV=window.PLOTLYENV || {};                                    if (document.getElementById(\"e44bddac-47eb-4719-a59c-586bb96a05c5\")) {                    Plotly.newPlot(                        \"e44bddac-47eb-4719-a59c-586bb96a05c5\",                        [{\"line\":{\"width\":3},\"name\":\"Time series 1\",\"x\":[0,1,2,3,4,5,6,7,8,9,10,11,12,13,14,15,16,17,18,19,20,21,22,23,24,25,26,27,28,29,30,31,32,33,34,35,36,37,38,39,40,41,42,43,44,45,46,47,48,49,50,51,52,53,54,55,56,57,58,59,60,61,62,63,64,65,66,67,68,69,70,71,72,73,74,75,76,77,78,79,80,81,82,83,84,85,86,87,88,89,90,91,92,93,94,95,96,97,98,99,100,101,102,103,104,105,106,107,108,109,110,111,112,113,114,115,116,117,118,119,120,121,122,123,124,125,126,127,128],\"y\":[-0.18718975,-0.26430177,-1.6591204,-0.92710486,-1.3148891,-0.19092144,-0.18049272,-0.26588817],\"type\":\"scatter\"},{\"line\":{\"width\":3},\"name\":\"Time series 2\",\"x\":[0,1,2,3,4,5,6,7,8,9,10,11,12,13,14,15,16,17,18,19,20,21,22,23,24,25,26,27,28,29,30,31,32,33,34,35,36,37,38,39,40,41,42,43,44,45,46,47,48,49,50,51,52,53,54,55,56,57,58,59,60,61,62,63,64,65,66,67,68,69,70,71,72,73,74,75,76,77,78,79,80,81,82,83,84,85,86,87,88,89,90,91,92,93,94,95,96,97,98,99,100,101,102,103,104,105,106,107,108,109,110,111,112,113,114,115,116,117,118,119,120,121,122,123,124,125,126,127,128],\"y\":[-0.62080772,-0.29092547,-1.0013096,-0.64851524,-1.3508606,-0.61605133,-0.98893115,0.013127942],\"type\":\"scatter\"},{\"line\":{\"width\":3},\"name\":\"Time series 3\",\"x\":[0,1,2,3,4,5,6,7,8,9,10,11,12,13,14,15,16,17,18,19,20,21,22,23,24,25,26,27,28,29,30,31,32,33,34,35,36,37,38,39,40,41,42,43,44,45,46,47,48,49,50,51,52,53,54,55,56,57,58,59,60,61,62,63,64,65,66,67,68,69,70,71,72,73,74,75,76,77,78,79,80,81,82,83,84,85,86,87,88,89,90,91,92,93,94,95,96,97,98,99,100,101,102,103,104,105,106,107,108,109,110,111,112,113,114,115,116,117,118,119,120,121,122,123,124,125,126,127,128],\"y\":[-0.8156607,-0.59856716,0.34228684,-0.17287512,-0.57481938,-0.59802857,-0.30170209,-1.0288614],\"type\":\"scatter\"},{\"line\":{\"width\":3},\"name\":\"Time series 4\",\"x\":[0,1,2,3,4,5,6,7,8,9,10,11,12,13,14,15,16,17,18,19,20,21,22,23,24,25,26,27,28,29,30,31,32,33,34,35,36,37,38,39,40,41,42,43,44,45,46,47,48,49,50,51,52,53,54,55,56,57,58,59,60,61,62,63,64,65,66,67,68,69,70,71,72,73,74,75,76,77,78,79,80,81,82,83,84,85,86,87,88,89,90,91,92,93,94,95,96,97,98,99,100,101,102,103,104,105,106,107,108,109,110,111,112,113,114,115,116,117,118,119,120,121,122,123,124,125,126,127,128],\"y\":[-0.52139796,-0.51886312,-1.2260096,-0.7542555,-0.71378316,-0.62544699,-0.47536458,-1.0901081],\"type\":\"scatter\"},{\"line\":{\"width\":3},\"name\":\"Time series 5\",\"x\":[0,1,2,3,4,5,6,7,8,9,10,11,12,13,14,15,16,17,18,19,20,21,22,23,24,25,26,27,28,29,30,31,32,33,34,35,36,37,38,39,40,41,42,43,44,45,46,47,48,49,50,51,52,53,54,55,56,57,58,59,60,61,62,63,64,65,66,67,68,69,70,71,72,73,74,75,76,77,78,79,80,81,82,83,84,85,86,87,88,89,90,91,92,93,94,95,96,97,98,99,100,101,102,103,104,105,106,107,108,109,110,111,112,113,114,115,116,117,118,119,120,121,122,123,124,125,126,127,128],\"y\":[-0.7904229,-0.48859389,-0.1731617,0.11078113,-1.7298737,-0.15250752,-1.1352694,-1.8820585],\"type\":\"scatter\"},{\"line\":{\"width\":3},\"name\":\"Time series 6\",\"x\":[0,1,2,3,4,5,6,7,8,9,10,11,12,13,14,15,16,17,18,19,20,21,22,23,24,25,26,27,28,29,30,31,32,33,34,35,36,37,38,39,40,41,42,43,44,45,46,47,48,49,50,51,52,53,54,55,56,57,58,59,60,61,62,63,64,65,66,67,68,69,70,71,72,73,74,75,76,77,78,79,80,81,82,83,84,85,86,87,88,89,90,91,92,93,94,95,96,97,98,99,100,101,102,103,104,105,106,107,108,109,110,111,112,113,114,115,116,117,118,119,120,121,122,123,124,125,126,127,128],\"y\":[-0.96751744,-0.40709142,-1.4114839,-1.4103976,-1.1608359,-0.76632987,-0.057289223,-0.5655942],\"type\":\"scatter\"},{\"line\":{\"width\":3},\"name\":\"Time series 7\",\"x\":[0,1,2,3,4,5,6,7,8,9,10,11,12,13,14,15,16,17,18,19,20,21,22,23,24,25,26,27,28,29,30,31,32,33,34,35,36,37,38,39,40,41,42,43,44,45,46,47,48,49,50,51,52,53,54,55,56,57,58,59,60,61,62,63,64,65,66,67,68,69,70,71,72,73,74,75,76,77,78,79,80,81,82,83,84,85,86,87,88,89,90,91,92,93,94,95,96,97,98,99,100,101,102,103,104,105,106,107,108,109,110,111,112,113,114,115,116,117,118,119,120,121,122,123,124,125,126,127,128],\"y\":[-1.4870063,-1.0714885,-1.0705067,-1.0463559,-1.4472945,-0.34225875,-1.0255147,-0.26894619],\"type\":\"scatter\"}],                        {\"template\":{\"data\":{\"histogram2dcontour\":[{\"type\":\"histogram2dcontour\",\"colorbar\":{\"outlinewidth\":0,\"ticks\":\"\"},\"colorscale\":[[0.0,\"#0d0887\"],[0.1111111111111111,\"#46039f\"],[0.2222222222222222,\"#7201a8\"],[0.3333333333333333,\"#9c179e\"],[0.4444444444444444,\"#bd3786\"],[0.5555555555555556,\"#d8576b\"],[0.6666666666666666,\"#ed7953\"],[0.7777777777777778,\"#fb9f3a\"],[0.8888888888888888,\"#fdca26\"],[1.0,\"#f0f921\"]]}],\"choropleth\":[{\"type\":\"choropleth\",\"colorbar\":{\"outlinewidth\":0,\"ticks\":\"\"}}],\"histogram2d\":[{\"type\":\"histogram2d\",\"colorbar\":{\"outlinewidth\":0,\"ticks\":\"\"},\"colorscale\":[[0.0,\"#0d0887\"],[0.1111111111111111,\"#46039f\"],[0.2222222222222222,\"#7201a8\"],[0.3333333333333333,\"#9c179e\"],[0.4444444444444444,\"#bd3786\"],[0.5555555555555556,\"#d8576b\"],[0.6666666666666666,\"#ed7953\"],[0.7777777777777778,\"#fb9f3a\"],[0.8888888888888888,\"#fdca26\"],[1.0,\"#f0f921\"]]}],\"heatmap\":[{\"type\":\"heatmap\",\"colorbar\":{\"outlinewidth\":0,\"ticks\":\"\"},\"colorscale\":[[0.0,\"#0d0887\"],[0.1111111111111111,\"#46039f\"],[0.2222222222222222,\"#7201a8\"],[0.3333333333333333,\"#9c179e\"],[0.4444444444444444,\"#bd3786\"],[0.5555555555555556,\"#d8576b\"],[0.6666666666666666,\"#ed7953\"],[0.7777777777777778,\"#fb9f3a\"],[0.8888888888888888,\"#fdca26\"],[1.0,\"#f0f921\"]]}],\"heatmapgl\":[{\"type\":\"heatmapgl\",\"colorbar\":{\"outlinewidth\":0,\"ticks\":\"\"},\"colorscale\":[[0.0,\"#0d0887\"],[0.1111111111111111,\"#46039f\"],[0.2222222222222222,\"#7201a8\"],[0.3333333333333333,\"#9c179e\"],[0.4444444444444444,\"#bd3786\"],[0.5555555555555556,\"#d8576b\"],[0.6666666666666666,\"#ed7953\"],[0.7777777777777778,\"#fb9f3a\"],[0.8888888888888888,\"#fdca26\"],[1.0,\"#f0f921\"]]}],\"contourcarpet\":[{\"type\":\"contourcarpet\",\"colorbar\":{\"outlinewidth\":0,\"ticks\":\"\"}}],\"contour\":[{\"type\":\"contour\",\"colorbar\":{\"outlinewidth\":0,\"ticks\":\"\"},\"colorscale\":[[0.0,\"#0d0887\"],[0.1111111111111111,\"#46039f\"],[0.2222222222222222,\"#7201a8\"],[0.3333333333333333,\"#9c179e\"],[0.4444444444444444,\"#bd3786\"],[0.5555555555555556,\"#d8576b\"],[0.6666666666666666,\"#ed7953\"],[0.7777777777777778,\"#fb9f3a\"],[0.8888888888888888,\"#fdca26\"],[1.0,\"#f0f921\"]]}],\"surface\":[{\"type\":\"surface\",\"colorbar\":{\"outlinewidth\":0,\"ticks\":\"\"},\"colorscale\":[[0.0,\"#0d0887\"],[0.1111111111111111,\"#46039f\"],[0.2222222222222222,\"#7201a8\"],[0.3333333333333333,\"#9c179e\"],[0.4444444444444444,\"#bd3786\"],[0.5555555555555556,\"#d8576b\"],[0.6666666666666666,\"#ed7953\"],[0.7777777777777778,\"#fb9f3a\"],[0.8888888888888888,\"#fdca26\"],[1.0,\"#f0f921\"]]}],\"mesh3d\":[{\"type\":\"mesh3d\",\"colorbar\":{\"outlinewidth\":0,\"ticks\":\"\"}}],\"scatter\":[{\"fillpattern\":{\"fillmode\":\"overlay\",\"size\":10,\"solidity\":0.2},\"type\":\"scatter\"}],\"parcoords\":[{\"type\":\"parcoords\",\"line\":{\"colorbar\":{\"outlinewidth\":0,\"ticks\":\"\"}}}],\"scatterpolargl\":[{\"type\":\"scatterpolargl\",\"marker\":{\"colorbar\":{\"outlinewidth\":0,\"ticks\":\"\"}}}],\"bar\":[{\"error_x\":{\"color\":\"#2a3f5f\"},\"error_y\":{\"color\":\"#2a3f5f\"},\"marker\":{\"line\":{\"color\":\"#E5ECF6\",\"width\":0.5},\"pattern\":{\"fillmode\":\"overlay\",\"size\":10,\"solidity\":0.2}},\"type\":\"bar\"}],\"scattergeo\":[{\"type\":\"scattergeo\",\"marker\":{\"colorbar\":{\"outlinewidth\":0,\"ticks\":\"\"}}}],\"scatterpolar\":[{\"type\":\"scatterpolar\",\"marker\":{\"colorbar\":{\"outlinewidth\":0,\"ticks\":\"\"}}}],\"histogram\":[{\"marker\":{\"pattern\":{\"fillmode\":\"overlay\",\"size\":10,\"solidity\":0.2}},\"type\":\"histogram\"}],\"scattergl\":[{\"type\":\"scattergl\",\"marker\":{\"colorbar\":{\"outlinewidth\":0,\"ticks\":\"\"}}}],\"scatter3d\":[{\"type\":\"scatter3d\",\"line\":{\"colorbar\":{\"outlinewidth\":0,\"ticks\":\"\"}},\"marker\":{\"colorbar\":{\"outlinewidth\":0,\"ticks\":\"\"}}}],\"scattermapbox\":[{\"type\":\"scattermapbox\",\"marker\":{\"colorbar\":{\"outlinewidth\":0,\"ticks\":\"\"}}}],\"scatterternary\":[{\"type\":\"scatterternary\",\"marker\":{\"colorbar\":{\"outlinewidth\":0,\"ticks\":\"\"}}}],\"scattercarpet\":[{\"type\":\"scattercarpet\",\"marker\":{\"colorbar\":{\"outlinewidth\":0,\"ticks\":\"\"}}}],\"carpet\":[{\"aaxis\":{\"endlinecolor\":\"#2a3f5f\",\"gridcolor\":\"white\",\"linecolor\":\"white\",\"minorgridcolor\":\"white\",\"startlinecolor\":\"#2a3f5f\"},\"baxis\":{\"endlinecolor\":\"#2a3f5f\",\"gridcolor\":\"white\",\"linecolor\":\"white\",\"minorgridcolor\":\"white\",\"startlinecolor\":\"#2a3f5f\"},\"type\":\"carpet\"}],\"table\":[{\"cells\":{\"fill\":{\"color\":\"#EBF0F8\"},\"line\":{\"color\":\"white\"}},\"header\":{\"fill\":{\"color\":\"#C8D4E3\"},\"line\":{\"color\":\"white\"}},\"type\":\"table\"}],\"barpolar\":[{\"marker\":{\"line\":{\"color\":\"#E5ECF6\",\"width\":0.5},\"pattern\":{\"fillmode\":\"overlay\",\"size\":10,\"solidity\":0.2}},\"type\":\"barpolar\"}],\"pie\":[{\"automargin\":true,\"type\":\"pie\"}]},\"layout\":{\"autotypenumbers\":\"strict\",\"colorway\":[\"#636efa\",\"#EF553B\",\"#00cc96\",\"#ab63fa\",\"#FFA15A\",\"#19d3f3\",\"#FF6692\",\"#B6E880\",\"#FF97FF\",\"#FECB52\"],\"font\":{\"color\":\"#2a3f5f\"},\"hovermode\":\"closest\",\"hoverlabel\":{\"align\":\"left\"},\"paper_bgcolor\":\"white\",\"plot_bgcolor\":\"#E5ECF6\",\"polar\":{\"bgcolor\":\"#E5ECF6\",\"angularaxis\":{\"gridcolor\":\"white\",\"linecolor\":\"white\",\"ticks\":\"\"},\"radialaxis\":{\"gridcolor\":\"white\",\"linecolor\":\"white\",\"ticks\":\"\"}},\"ternary\":{\"bgcolor\":\"#E5ECF6\",\"aaxis\":{\"gridcolor\":\"white\",\"linecolor\":\"white\",\"ticks\":\"\"},\"baxis\":{\"gridcolor\":\"white\",\"linecolor\":\"white\",\"ticks\":\"\"},\"caxis\":{\"gridcolor\":\"white\",\"linecolor\":\"white\",\"ticks\":\"\"}},\"coloraxis\":{\"colorbar\":{\"outlinewidth\":0,\"ticks\":\"\"}},\"colorscale\":{\"sequential\":[[0.0,\"#0d0887\"],[0.1111111111111111,\"#46039f\"],[0.2222222222222222,\"#7201a8\"],[0.3333333333333333,\"#9c179e\"],[0.4444444444444444,\"#bd3786\"],[0.5555555555555556,\"#d8576b\"],[0.6666666666666666,\"#ed7953\"],[0.7777777777777778,\"#fb9f3a\"],[0.8888888888888888,\"#fdca26\"],[1.0,\"#f0f921\"]],\"sequentialminus\":[[0.0,\"#0d0887\"],[0.1111111111111111,\"#46039f\"],[0.2222222222222222,\"#7201a8\"],[0.3333333333333333,\"#9c179e\"],[0.4444444444444444,\"#bd3786\"],[0.5555555555555556,\"#d8576b\"],[0.6666666666666666,\"#ed7953\"],[0.7777777777777778,\"#fb9f3a\"],[0.8888888888888888,\"#fdca26\"],[1.0,\"#f0f921\"]],\"diverging\":[[0,\"#8e0152\"],[0.1,\"#c51b7d\"],[0.2,\"#de77ae\"],[0.3,\"#f1b6da\"],[0.4,\"#fde0ef\"],[0.5,\"#f7f7f7\"],[0.6,\"#e6f5d0\"],[0.7,\"#b8e186\"],[0.8,\"#7fbc41\"],[0.9,\"#4d9221\"],[1,\"#276419\"]]},\"xaxis\":{\"gridcolor\":\"white\",\"linecolor\":\"white\",\"ticks\":\"\",\"title\":{\"standoff\":15},\"zerolinecolor\":\"white\",\"automargin\":true,\"zerolinewidth\":2},\"yaxis\":{\"gridcolor\":\"white\",\"linecolor\":\"white\",\"ticks\":\"\",\"title\":{\"standoff\":15},\"zerolinecolor\":\"white\",\"automargin\":true,\"zerolinewidth\":2},\"scene\":{\"xaxis\":{\"backgroundcolor\":\"#E5ECF6\",\"gridcolor\":\"white\",\"linecolor\":\"white\",\"showbackground\":true,\"ticks\":\"\",\"zerolinecolor\":\"white\",\"gridwidth\":2},\"yaxis\":{\"backgroundcolor\":\"#E5ECF6\",\"gridcolor\":\"white\",\"linecolor\":\"white\",\"showbackground\":true,\"ticks\":\"\",\"zerolinecolor\":\"white\",\"gridwidth\":2},\"zaxis\":{\"backgroundcolor\":\"#E5ECF6\",\"gridcolor\":\"white\",\"linecolor\":\"white\",\"showbackground\":true,\"ticks\":\"\",\"zerolinecolor\":\"white\",\"gridwidth\":2}},\"shapedefaults\":{\"line\":{\"color\":\"#2a3f5f\"}},\"annotationdefaults\":{\"arrowcolor\":\"#2a3f5f\",\"arrowhead\":0,\"arrowwidth\":1},\"geo\":{\"bgcolor\":\"white\",\"landcolor\":\"#E5ECF6\",\"subunitcolor\":\"white\",\"showland\":true,\"showlakes\":true,\"lakecolor\":\"white\"},\"title\":{\"x\":0.05},\"mapbox\":{\"style\":\"light\"}}},\"xaxis\":{\"title\":{\"text\":\"Time\",\"font\":{\"size\":18,\"color\":\"black\"}},\"tickfont\":{\"size\":16,\"color\":\"black\"},\"showgrid\":false,\"linecolor\":\"#000\",\"ticks\":\"outside\",\"linewidth\":1,\"tickwidth\":1},\"yaxis\":{\"title\":{\"text\":\"Values\",\"font\":{\"size\":18,\"color\":\"black\"}},\"tickfont\":{\"size\":16,\"color\":\"black\"},\"showgrid\":false,\"linecolor\":\"#000\",\"ticks\":\"outside\",\"zeroline\":false,\"linewidth\":1,\"tickwidth\":1},\"title\":{\"font\":{\"size\":18,\"color\":\"black\"},\"text\":\"third\",\"x\":0.5,\"y\":0.9,\"xanchor\":\"center\",\"yanchor\":\"top\"},\"legend\":{\"font\":{\"size\":16,\"color\":\"black\"}},\"plot_bgcolor\":\"rgba(0,0,0,0)\",\"paper_bgcolor\":\"rgba(0,0,0,0)\",\"width\":1000,\"height\":400},                        {\"responsive\": true}                    ).then(function(){\n",
       "                            \n",
       "var gd = document.getElementById('e44bddac-47eb-4719-a59c-586bb96a05c5');\n",
       "var x = new MutationObserver(function (mutations, observer) {{\n",
       "        var display = window.getComputedStyle(gd).display;\n",
       "        if (!display || display === 'none') {{\n",
       "            console.log([gd, 'removed!']);\n",
       "            Plotly.purge(gd);\n",
       "            observer.disconnect();\n",
       "        }}\n",
       "}});\n",
       "\n",
       "// Listen for the removal of the full notebook cells\n",
       "var notebookContainer = gd.closest('#notebook-container');\n",
       "if (notebookContainer) {{\n",
       "    x.observe(notebookContainer, {childList: true});\n",
       "}}\n",
       "\n",
       "// Listen for the clearing of the current output cell\n",
       "var outputEl = gd.closest('.output');\n",
       "if (outputEl) {{\n",
       "    x.observe(outputEl, {childList: true});\n",
       "}}\n",
       "\n",
       "                        })                };                            </script>        </div>\n",
       "</body>\n",
       "</html>"
      ]
     },
     "metadata": {},
     "output_type": "display_data"
    }
   ],
   "source": [
    "# INSERT YOUR CODE\n",
    "\n",
    "data1 = data[data.iloc[:, 0] == 1]\n",
    "plot_ts(data1, plot_title='first')\n",
    "\n",
    "\n",
    "data2 = data[data.iloc[:, 0] == 2]\n",
    "plot_ts(data2, plot_title='second')\n",
    "\n",
    "\n",
    "data3 = data[data.iloc[:, 0] == 3]\n",
    "plot_ts(data3, plot_title='third')"
   ]
  },
  {
   "cell_type": "markdown",
   "metadata": {
    "id": "0ryFTWiz_fWA"
   },
   "source": [
    "Далее самостоятельно реализуйте класс `TimeSeriesHierarchicalClustering` из модуля *clustering.py*, который выполняет иерархическую кластеризацию временных рядов.\n",
    "\n",
    "Перед тем как приступить к реализации, изучите скелет этого класса. Реализуйте метод `fit()`, выполняющий кластеризацию данных на основе предвычисленной матрицы расстояний, которая передается в данный метод. Поскольку реализовать иерархическую кластеризацию довольно сложно, используйте готовую реализацию [`AgglomerativeClustering`](https://scikit-learn.org/stable/modules/generated/sklearn.cluster.AgglomerativeClustering.html) из *sklearn*.   \n",
    "\n",
    "Выполните иерархическую кластеризацию загруженных временных рядов CBF для двух функций расстояния: евлидовой метрики и DTW меры.\n",
    "Для этого сначала найдите матрицы расстояний между временными рядами, используя класс `PairwiseDistance`, и передайте каждую матрицу в метод `fit()` для кластеризации.\n",
    "Далее выполните визуализацию результатов в виде дендрограмм с помощью метода `plot_dendrogram()`, передав исходный набор временных рядов и их метки."
   ]
  },
  {
   "cell_type": "code",
   "execution_count": null,
   "metadata": {
    "id": "LOZc-IVCH7OG"
   },
   "outputs": [],
   "source": [
    "# INSERT YOUR CODE"
   ]
  },
  {
   "cell_type": "markdown",
   "metadata": {
    "id": "AKLbiOYSp9us"
   },
   "source": [
    "Сравните результаты иерархической кластеризации, полученные при двух различных функций расстояния, с помощью силуэтного коэффициента. Для этого используйте функцию [`silhouette_score()`](https://scikit-learn.org/stable/modules/generated/sklearn.metrics.silhouette_score.html) из библиотеки *sklearn*, передав в нее предвычисленную матрицу расстояний и предсказанные метки.\n",
    "\n",
    "**Силуэтный коэффициент** – метрика, которая оценивает качество кластеризации на основе исходной выборки и результатов кластеризации без необходимости знания об истинных метках объектов.\n",
    "\n",
    "Силуэтный коэффициент для выборки показывает, насколько среднее расстояние до объектов своего кластера отличается от среднего расстояния до объектов других кластеров. Пусть дана выборка $X$, состоящая из $N$ объектов. Предположим, что объекты этой выборки были разбиты на кластеры $c_1, ... c_K$, $c_i \\in C$, с помощью некоторого алгоритма кластеризации. Тогда силуэтный коэффициент для выборки будет вычисляться следующим образом:\n",
    "\n",
    "\\begin{equation}\n",
    "sil\\_coef = \\frac{1}{N} \\sum_{c_k \\in C} \\sum_{x_i \\in c_k} \\frac{b(x_i, c_k) - a(x_i, c_k)}{\\max(a(x_i, c_k), b(x_i, c_k))},\n",
    "\\end{equation}\n",
    "\n",
    "где $a(x_i, c_k)$ – среднее расстояние от объекта $x_i \\in c_k$ до других объектов из этого же кластера $c_k$; <br> $b(x_i, c_k)$  – среднее расстояние от объекта $x_i \\in c_k$ до объектов из другого кластера $c_l$, $k \\neq l$.\n",
    "\n",
    "Силуэтный коэффициент принимает значения от  −1  до  1:\n",
    "*   –1 означает, что кластеры плохие, размытые;\n",
    "*   0 означает, что кластеры накладываются друг на друга;\n",
    "*   1 означает, что кластеры плотные и хорошо отделены друг от друга.\n",
    "\n",
    "Таким образом, чем ближе значение коэффициента к 1, тем лучше кластеризованы данные."
   ]
  },
  {
   "cell_type": "code",
   "execution_count": null,
   "metadata": {
    "id": "awXYWGphqCbQ"
   },
   "outputs": [],
   "source": [
    "# INSERT YOUR CODE"
   ]
  },
  {
   "cell_type": "markdown",
   "metadata": {
    "id": "CRfDkih_AGuB"
   },
   "source": [
    "![equation.png](data:image/png;base64,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)\n",
    "Проанализируйте полученные результаты кластеризации с помощью построенных дендрограмм и вычисленных силуэтных коэффициентов. Какая, на ваш взгляд, функция расстояния показала лучший результат и почему? Укажите, в каких случаях более предпочтительно использовать DTW меру, чем евклидову метрику."
   ]
  },
  {
   "cell_type": "markdown",
   "metadata": {
    "id": "vxDN87yuAQ9l"
   },
   "source": [
    "*# WRITE YOUR ANSWER*"
   ]
  },
  {
   "cell_type": "markdown",
   "metadata": {
    "id": "1f2_mgETwkZY"
   },
   "source": [
    "## **Часть 2.** $Z$-нормализация временных рядов."
   ]
  },
  {
   "cell_type": "markdown",
   "metadata": {
    "id": "BvVfiEMTvl0o"
   },
   "source": [
    "### **Задача 5.**\n",
    "Реализуйте функцию вычисления нормализованного евклидова расстояния между временными рядами `norm_ED_distance()` в модуле *metrics.py* и проверьте правильность своей реализации, сравнив полученные результаты с результатами функции [`ed_distance()`](https://www.sktime.net/en/latest/api_reference/auto_generated/sktime.distances.euclidean_distance.html) из библиотеки *sktime*, в которую необходимо передать <u>нормализованные</u> временные ряды. Для нормализации временных рядов используйте функцию `z-normalize()` из *utils.py*.  Для проверки можно использовать синтетические временные ряды из первой части или заново их сгенерировать.\n",
    "\n",
    "**Нормализованная евклидова метрика** между двумя временными рядами $T_1$ и $T_2$ длины $n$ вычисляется следующим образом:\n",
    "\n",
    "\\begin{equation}\n",
    "\t\\text{ED}_{norm}(T_1, T_2) = \\sqrt {\\Big|\\; 2n\\left(1-\\dfrac{<T_1, T_2> - \\; n \\; \\cdotp \\mu_{T_1} \\; \\cdotp \\mu_{T_2}}{n \\; \\cdotp \\sigma_{T_1} \\; \\cdotp \\sigma_{T_2}}\\right)\\Big|},\n",
    "\\end{equation}\n",
    "\n",
    "где $<T_1, T_2>$ – скалярное произведение временных рядов, $\\mu_{T_1}$ и $\\mu_{T_2}$, $\\sigma_{T_1}$ и $\\sigma_{T_2}$ – среднее арифметическое и стандартное отклонение временных рядов соответственно.\n",
    "\n",
    "**Среднее арифметическое** $\\mu_T$ и **стандартное отклонение** $\\sigma_T$ временного ряда $T$ длины $n$ вычисляются по следующим формулам:\n",
    "\n",
    "\\begin{equation}\n",
    "\t\\mu_{T} = \\frac{1}{n}\\sum\\limits_{i=1}^{n} t_{i}, \\\\[1em]\n",
    "\t\\sigma_{T} = \\sqrt{\\frac{1}{n}\\sum\\limits_{i=1}^{n} t_i^2-\\mu_{T}^2}.\n",
    "\\end{equation}"
   ]
  },
  {
   "cell_type": "code",
   "execution_count": 1,
   "metadata": {
    "id": "4CWvwwuQJNPP"
   },
   "outputs": [],
   "source": [
    "# INSERT YOUR CODE"
   ]
  },
  {
   "cell_type": "markdown",
   "metadata": {
    "id": "Fd-Ytm-3up37"
   },
   "source": [
    "### **Задача 6.**\n",
    "Далее убедимся, что выполнение $z$-нормализации на этапе предобработки данных имеет важное значение и может повысить точность решаемой задачи.\n",
    "\n",
    "В данном задании вы продолжите решать задачу иерархической кластеризации. В качестве данных будут использоваться два временных ряда из набора данных [BIDMC](https://physionet.org/content/chfdb/1.0.0/). Набор BIDMC состоит из записей ЭКГ-сигналов, снятых с 15 пациентов с сердечной недостаточностью тяжелой степени.  \n",
    "\n",
    "Загрузите два временных ряда и визуализируйте их с помощью функции `plot_ts()` из модуля *plots.py*."
   ]
  },
  {
   "cell_type": "code",
   "execution_count": null,
   "metadata": {
    "id": "Ej1vG79L3Ns-"
   },
   "outputs": [],
   "source": [
    "url1 = './datasets/part2/chf10.csv'\n",
    "ts1 = read_ts(url1)\n",
    "\n",
    "url2 = './datasets/part2/chf11.csv'\n",
    "ts2 = read_ts(url2)"
   ]
  },
  {
   "cell_type": "code",
   "execution_count": null,
   "metadata": {
    "id": "e7lUvTjb7dMa"
   },
   "outputs": [],
   "source": [
    "ts_set = np.concatenate((ts1, ts2), axis=1).T"
   ]
  },
  {
   "cell_type": "code",
   "execution_count": null,
   "metadata": {
    "id": "zBqBgXL_dr-K"
   },
   "outputs": [],
   "source": [
    "plot_ts(ts_set)"
   ]
  },
  {
   "cell_type": "markdown",
   "metadata": {
    "id": "voNtTQAg0aR5"
   },
   "source": [
    "Разделите каждый временной ряд на непересекающиеся подпоследовательности с помощью техники скользящего окна. Для этого используйте функцию `sliding_window()` из модуля *utils.py*, передав в нее временной ряд, заданную длину подпоследовательности и величину шага. В нашем случае, величина шага равна длине подпоследовательности."
   ]
  },
  {
   "cell_type": "code",
   "execution_count": null,
   "metadata": {
    "id": "ptVJWErHuts_"
   },
   "outputs": [],
   "source": [
    "m = 125\n",
    "subs_set1 = sliding_window(ts_set[0], m, m-1)\n",
    "subs_set2 = sliding_window(ts_set[1], m, m-1)"
   ]
  },
  {
   "cell_type": "markdown",
   "metadata": {
    "id": "JyZmw7l8rEmg"
   },
   "source": [
    "Сформируйте множество всех подпоследовательностей, извлеченных из двух временных рядов, и массив меток подпоследовательностей в соответствии с их принадлежностью к временному ряду."
   ]
  },
  {
   "cell_type": "code",
   "execution_count": null,
   "metadata": {
    "id": "wk2HrKVJzATk"
   },
   "outputs": [],
   "source": [
    "subs_set = np.concatenate((subs_set1[0:15], subs_set2[0:15]))\n",
    "labels = np.array([0]*subs_set1[0:15].shape[0] + [1]*subs_set2[0:15].shape[0])"
   ]
  },
  {
   "cell_type": "markdown",
   "metadata": {
    "id": "xNc4ihIRu2Xt"
   },
   "source": [
    "Добавьте в класс `PairwiseDistance` из модуля *pairwise_distance.py* возможность вычисления нормализованной евклидовой метрики между временными рядами. Если матрица расстояний строится для нормализованных временных рядов на основе евклидовой метрики, то должна вызываться функция `norm_ED_distance()`. Для остальных метрик/мер схожести перед нахождением матрицы расстояний временные ряды должны подтвергаться $z$-нормализации с помощью функции `z_normalize()` из модуля *utils.py*.\n",
    "\n",
    "Далее выполните иерархическую кластеризацию подпоследовательностей двух временных рядов с использованием предварительно построенных матриц расстояний на основе классической и нормализованной евклидовой метрики."
   ]
  },
  {
   "cell_type": "code",
   "execution_count": null,
   "metadata": {
    "id": "0s6Bcgims7r5"
   },
   "outputs": [],
   "source": [
    "# INSERT YOUR CODE"
   ]
  },
  {
   "cell_type": "markdown",
   "metadata": {
    "id": "WuquG9oFvJOo"
   },
   "source": [
    "Вычислите силуэтные коэффициенты для оценки качества кластеризации с нормализацией и без нее, как это было сделано в задаче 4 части 1."
   ]
  },
  {
   "cell_type": "code",
   "execution_count": null,
   "metadata": {
    "id": "ODvZDF2pvNR3"
   },
   "outputs": [],
   "source": [
    "# INSERT YOUR CODE"
   ]
  },
  {
   "cell_type": "markdown",
   "metadata": {
    "id": "KX8flrMwQnJi"
   },
   "source": [
    "![equation.png](data:image/png;base64,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)\n",
    "Сравните полученные результаты кластеризации с помощью построенных дендрограмм и вычисленных силуэтных коэффициентов. Позволила ли $z$-нормализации временных рядов повысить качество кластеризации?"
   ]
  },
  {
   "cell_type": "markdown",
   "metadata": {
    "id": "gg6MjxpSSKq3"
   },
   "source": [
    "*# WRITE YOUR ANSWER*"
   ]
  },
  {
   "cell_type": "markdown",
   "metadata": {
    "id": "pEVntMKowu8O"
   },
   "source": [
    "## **Часть 3.** Классификация изображений, представленных в виде временных рядов."
   ]
  },
  {
   "cell_type": "markdown",
   "metadata": {
    "id": "XKIw--vpLJzk"
   },
   "source": [
    "### **Задача 7.**\n",
    "В данном задании вам предстоит выполнить преобразование изображения, на котором находится некоторый объект, во временной ряд. Для этого вы реализуете один из существующих методов, предложенный в [статье Кеога и др](https://dl.acm.org/doi/10.5555/1182635.1164203).\n",
    "\n",
    "Данный метод заключается в том, что сначала на изображении выполняется поиск контура $E = \\{e_i\\}_{i=1}^L$, где $e_i$ – точки контура, и центра масс объекта $O$. Затем берутся точки, расположенные на контуре объекта, следующим образом.\n",
    "\n",
    "Рассмотрим луч $OP$ с началом в центре масс объекта $O$, направление которого совпадает с положительным направлением оси Ox (см. рисунок). Далее выполняется поворот против часовой стрелки луча $OP$ вокруг центра масс $O$ на некоторый заданный угол $α$, $1° \\leqslant α \\leqslant 360°$. Поворот луча будет осуществляться до тех пор, пока луч не пройдет полный оборот. Все точки $P = \\{P_i\\}_{i=1}^K$, $P_i \\in E$, $K = \\lfloor \\frac{360°}{α} \\rfloor$, образованные пересечением луча $OP$ с контуром $E$ во время поворота, будут являться искомыми.\n",
    "\n",
    "На завершающем шаге метода вычисляются расстояния между центром масс объекта $O$ и найденными точками на контуре $P$. В качестве функции расстояния может быть использовано манхэттенское или евклидово расстояние. Полученные расстояния будут формировать временной ряд $T$ длины $K$:\n",
    "\\begin{equation}\n",
    "T = \\{t_i\\}_{i=1}^K,\\;где \\; t_i = dist(O, P_i), \\; P_i \\in P.\n",
    "\\end{equation}\n",
    "\n",
    "\\\n",
    "<center><img src=\"https://github.com/mzym/TimeSeriesCourse/blob/main/practice/01%20Basics/img/image2ts.png?raw=true\" width=\"1000\"></center>"
   ]
  },
  {
   "cell_type": "markdown",
   "metadata": {
    "id": "KyWPcg5sw360"
   },
   "source": [
    "Поскольку часть 3 предполагает работу с изображениями, то вы будете использовать для реализации некоторых частей кода библиотеку компьютерного зрения *cv2*. Для поиска всех необходимых функций рекомендуем воспользоваться [документацией библиотеки cv2](https://docs.opencv.org/4.x/d6/d00/tutorial_py_root.html).\n",
    "\n",
    "Загрузите изображение *example.tif* из директории *./datasets/part3* и выполните его визуализацию с помощью соответствующих функций из библиотеки *cv2*."
   ]
  },
  {
   "cell_type": "code",
   "execution_count": null,
   "metadata": {
    "id": "u5K9vZtgw7CX"
   },
   "outputs": [],
   "source": [
    "# INSERT YOUR CODE"
   ]
  },
  {
   "cell_type": "markdown",
   "metadata": {
    "id": "SA2dUqaAw_S3"
   },
   "source": [
    "За конвертацию изображения во временной ряд с помощью описанного выше метода отвечает функция `image2ts()` из модуля *image_converter.py*. Прежде чем исходное изображение будет преобразовано во временной ряд, сначала оно должно пройти этап предварительной обработки. Предварительная обработка включает в себя следующие шаги:\n",
    "\n",
    "<center><img src=\"https://github.com/mzym/TimeSeriesCourse/blob/main/practice/01%20Basics/img/image_preprocessing.png?raw=true\" width=\"1000\"></center>\n",
    "\n",
    "Предобработка изображения в `image2ts()` осуществляется с помощью функции `_img_preprocess()`. Реализуйте в данной функции все представленные на диаграмме шаги предварительной обработки средствами библиотеки *cv2*. Промежуточные результаты должны совпадать с представленными на диаграмме.\n",
    "\n",
    "Далее выполните конвертацию изображения во временной ряд, передав в функцию `image2ts()` следующие заданные вами аргументы:\n",
    "*   исходное загруженное изображение;\n",
    "*   шаг угла поворота;\n",
    "*   параметр, определяющий нужно или нет визуализировать изображение с выделенными на нем контуром, центром масс и лучами, проведенными из центра.\n",
    "\n",
    "Визуализируйте полученный временной ряд.\n"
   ]
  },
  {
   "cell_type": "code",
   "execution_count": null,
   "metadata": {
    "id": "edKiXoEOxJJC"
   },
   "outputs": [],
   "source": [
    "angle_step = 20\n",
    "visualize = True\n",
    "\n",
    "ts = image2ts(img, angle_step, visualize)\n",
    "plot_ts(np.array([ts]), \"Time series representation of image\")"
   ]
  },
  {
   "cell_type": "markdown",
   "metadata": {
    "id": "YbZ1-p3J37lU"
   },
   "source": [
    "### **Задача 8.**\n",
    "\n",
    "Выполните классификацию изображений, представленных в виде временных рядов, с помощью метода $k$ ближайших соседей (kNN).\n",
    "\n",
    "**Метод $k$ ближайших соседей (kNN)** – алгоритм классификации, заключающийся в вычислении сходства между объектами на основе некоторой заданной метрики/меры схожести. Классифицируемый объект относится к тому классу, к которому принадлежит большинство из его $k$ соседей ($k$ ближайших к нему объектов из обучающей выборки).\n",
    "\n",
    "Для классификации на основе алгоритма kNN необходимо выполнить следующие шаги:\n",
    "\n",
    "1. Загрузить обучающую и тестовую выборки.\n",
    "\n",
    "2. Задать параметр алгоритма $k$, где $k$ – количество ближайших соседей, $k \\in \\mathbb N^*$.\n",
    "\n",
    "3. Для каждого объекта из тестовой выборки выполнить следующее:\n",
    "\n",
    "    3.1. Вычислить расстояние до всех объектов из обучающей выборки на основе заданной метрики/меры схожести.\n",
    "    \n",
    "    3.2. Отсортировать в порядке возрастания найденные расстояния.\n",
    "\n",
    "    3.3. Найти $k$ ближайших соседей, взяв первые $k$ минимальные расстояния из отсортированного массива расстояний.\n",
    "\n",
    "    3.4. Назначить объекту из тестовой выборки наиболее часто встречающийся класс найденных ранее ближайших соседей.\n",
    "\n",
    "\n",
    "Для этого задания вам предлагается набор данных, который содержит изображения листьев четырех различных пород деревьев: дуб, ольха, ива и липа. Набор данных состоит из обучающей и тестовой выборок, включающих по 15 и 10 изображений листьев на класс соответственно. Для составления этого набора данных изображения были взяты из [Swedish Leaf Dataset](https://www.cvl.isy.liu.se/en/research/datasets/swedish-leaf/).\n",
    "\n",
    "Загрузите изображения из обучающей и тестовой выборок, а также их метки, используя `read_images()` и `read_ts()` соответственно.\n",
    "Выполните визуализацию прецедентов выборки с помощью функции `plot_images()`.\n"
   ]
  },
  {
   "cell_type": "code",
   "execution_count": null,
   "metadata": {
    "id": "P4qhn1634PPR"
   },
   "outputs": [],
   "source": [
    "def read_images(dir: str) -> list[np.ndarray]:\n",
    "    \"\"\"\n",
    "    Load all images from a directory\n",
    "\n",
    "    Parameters\n",
    "    ----------\n",
    "    dir: directory path\n",
    "\n",
    "    Returns\n",
    "    -------\n",
    "    images: images from a directory\n",
    "    \"\"\"\n",
    "\n",
    "    images = []\n",
    "    for img_path in sorted(glob.glob(dir)):\n",
    "        cv_img = cv2.imread(img_path)\n",
    "        images.append(cv_img)\n",
    "\n",
    "    return images"
   ]
  },
  {
   "cell_type": "code",
   "execution_count": null,
   "metadata": {
    "id": "WRi1hxpPViVE"
   },
   "outputs": [],
   "source": [
    "def plot_images(images: list[np.ndarray], labels: np.ndarray, class_names: list[str]) -> None:\n",
    "    \"\"\"\n",
    "    Plot some images from dataset\n",
    "\n",
    "    Parameters\n",
    "    ----------\n",
    "    images: dataset of images\n",
    "    labels: labels of images\n",
    "    class_names: class names of images\n",
    "    \"\"\"\n",
    "\n",
    "    rows = 2\n",
    "    columns = 4\n",
    "\n",
    "    fig, axes = plt.subplots(nrows=rows, ncols=columns, figsize=(columns*2, rows*3))\n",
    "\n",
    "    for num in range(1, rows*columns+1):\n",
    "        fig.add_subplot(rows, columns, num)\n",
    "        idx = num - 1\n",
    "        plt.imshow(images[idx], aspect='auto')\n",
    "        plt.title(f'{class_names[labels[idx]]}', fontsize=10)\n",
    "\n",
    "    fig.tight_layout()\n",
    "\n",
    "    for idx, ax in enumerate(axes.flat):\n",
    "        ax.set_xticks([])\n",
    "        ax.set_yticks([])"
   ]
  },
  {
   "cell_type": "code",
   "execution_count": null,
   "metadata": {
    "id": "6LYlleFcxTGv"
   },
   "outputs": [],
   "source": [
    "train_set_path = \"./datasets/part3/train_set_leaves/*.tif\"\n",
    "test_set_path = \"./datasets/part3/test_set_leaves/*.tif\"\n",
    "\n",
    "train_images = read_images(train_set_path)\n",
    "test_images = read_images(test_set_path)\n",
    "\n",
    "train_label_path = './datasets/part3/train_set_leaves/train_label.csv'\n",
    "test_label_path = './datasets/part3/test_set_leaves/test_label.csv'\n",
    "\n",
    "train_labels = read_ts(train_label_path)\n",
    "train_labels = train_labels.reshape(-1).astype('int32')\n",
    "\n",
    "test_labels = read_ts(test_label_path)\n",
    "test_labels = test_labels.reshape(-1).astype('int32')"
   ]
  },
  {
   "cell_type": "code",
   "execution_count": null,
   "metadata": {
    "id": "Mxibv3gGxToN"
   },
   "outputs": [],
   "source": [
    "class_names = ['Quercus (дуб)', 'Alnus (ольха)', 'Salix (ива)', 'Tilia (липа)']\n",
    "plot_images(train_images, train_labels, class_names)"
   ]
  },
  {
   "cell_type": "markdown",
   "metadata": {
    "id": "ge9b7ztIxXCo"
   },
   "source": [
    "Выполните преобразование изображений обучающей и тестовой выборок во временные ряды с помощью функции `image2ts()`.  "
   ]
  },
  {
   "cell_type": "code",
   "execution_count": null,
   "metadata": {
    "id": "fpDi7VN1xXwo"
   },
   "outputs": [],
   "source": [
    "# INSERT YOUR CODE"
   ]
  },
  {
   "cell_type": "markdown",
   "metadata": {
    "id": "fXWq_cM6vUbK"
   },
   "source": [
    "Для классификации временных рядов методом $k$ ближайших соседей вам необходимо использовать класс `TimeSeriesKNN` из модуля *classification.py*.\n",
    "Реализуйте метод `fit()` в классе `TimeSeriesKNN`, который выполняет поиск для каждого элемента из тестовой выборки $k$ ближайших соседей и назначает им тот класс, который является часто встречающимся среди классов ближайших соседей. В качестве параметров в метод `fit()` передается тестовая выборка. Вычислите точность классификации по метрике accuracy с помощью функции `calculate_accurary()` из модуля *classification.py*."
   ]
  },
  {
   "cell_type": "code",
   "execution_count": null,
   "metadata": {
    "id": "rttBJwnkyYT9"
   },
   "outputs": [],
   "source": [
    "n_neighbors = 6\n",
    "metric = 'euclidean'\n",
    "metric_params = {'normalize': True}\n",
    "\n",
    "# INSERT YOUR CODE"
   ]
  },
  {
   "cell_type": "code",
   "execution_count": null,
   "metadata": {
    "id": "QCBAiXuAzLpQ"
   },
   "outputs": [],
   "source": [
    "metric = 'dtw'\n",
    "metric_params = {'normalize': True}\n",
    "\n",
    "# INSERT YOUR CODE"
   ]
  },
  {
   "cell_type": "markdown",
   "metadata": {
    "id": "6Fbfsej4XKX4"
   },
   "source": [
    "![equation.png](data:image/png;base64,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)\n",
    "Проанализируйте результаты и сделайте выводы."
   ]
  },
  {
   "cell_type": "markdown",
   "metadata": {
    "id": "b2YG3zbeXLgQ"
   },
   "source": [
    "*# WRITE YOUR ANSWER*"
   ]
  }
 ],
 "metadata": {
  "colab": {
   "provenance": [],
   "toc_visible": true
  },
  "kernelspec": {
   "display_name": "Python 3 (ipykernel)",
   "language": "python",
   "name": "python3"
  },
  "language_info": {
   "codemirror_mode": {
    "name": "ipython",
    "version": 3
   },
   "file_extension": ".py",
   "mimetype": "text/x-python",
   "name": "python",
   "nbconvert_exporter": "python",
   "pygments_lexer": "ipython3",
   "version": "3.8.19"
  }
 },
 "nbformat": 4,
 "nbformat_minor": 4
}
